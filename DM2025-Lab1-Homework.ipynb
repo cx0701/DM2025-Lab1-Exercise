{
 "cells": [
  {
   "cell_type": "markdown",
   "metadata": {},
   "source": [
    "### Student Information\n",
    "Name:廖利華\n",
    "\n",
    "Student ID:11414613\n",
    "\n",
    "GitHub ID:cx0701"
   ]
  },
  {
   "cell_type": "markdown",
   "metadata": {},
   "source": [
    "---"
   ]
  },
  {
   "cell_type": "markdown",
   "metadata": {},
   "source": [
    "### Instructions"
   ]
  },
  {
   "cell_type": "markdown",
   "metadata": {},
   "source": [
    "### First Phase Submission"
   ]
  },
  {
   "cell_type": "markdown",
   "metadata": {},
   "source": [
    "1. First: do the **take home** exercises in the [DM2025-Lab1-Master](https://github.com/leoson-wu/DM2025-Lab1-Exercise/blob/main/DM2025-Lab1-Master.ipynb) that considered as **phase 1 (from exercise 1 to exercise 15)**. You can answer in the master file. __This part is worth 10% of your grade.__\n",
    "\n",
    "\n",
    "2. Second: follow the same process from the [DM2025-Lab1-Master](https://github.com/leoson-wu/DM2025-Lab1-Exercise/blob/main/DM2025-Lab1-Master.ipynb) on **the new dataset** up **until phase 1**. You can skip some exercises if you think some steps are not necessary. However main exercises should be completed. You don't need to explain all details as we did (some **minimal comments** explaining your code are useful though).  __This part is worth 15% of your grade.__\n",
    "    -  Use [the new dataset](https://github.com/leoson-wu/DM2025-Lab1-Exercise/blob/main/newdataset/Reddit-stock-sentiment.csv). The dataset contains a 16 columns including 'text' and 'label', with the sentiment labels being: 1.0 is positive, 0.0 is neutral and -1.0 is negative. You can simplify the dataset and use only the columns that you think are necessary. \n",
    "    \n",
    "    - You are allowed to use and modify the `helper` functions in the folder of the first lab session (notice they may need modification) or create your own.\n",
    "    - Use this file to complete the homework from the second part. Make sure the code can be run from the beginning till the end and has all the needed output.\n",
    "\n",
    "\n",
    "3. Third: please attempt the following tasks on **the new dataset**. __This part is worth 10% of your grade.__\n",
    "    - Generate meaningful **new data visualizations**. Refer to online resources and the Data Mining textbook for inspiration and ideas. \n",
    "    \n",
    "\n",
    "\n",
    "4. Fourth: It's hard for us to follow if your code is messy, so please **tidy up your notebook** and **add minimal comments where needed**. __This part is worth 5% of your grade.__\n",
    "\n",
    "You can submit your homework following these guidelines: [DM2025-Lab1-announcement](https://github.com/leoson-wu/DM2025-Lab1-Announcement/blob/main/README.md). Make sure to commit and save your changes to your repository __BEFORE the deadline (September 28th 11:59 pm, Sunday)__. "
   ]
  },
  {
   "cell_type": "markdown",
   "metadata": {},
   "source": [
    "### Second Phase Submission "
   ]
  },
  {
   "cell_type": "markdown",
   "metadata": {},
   "source": [
    "**You can keep the answer for phase 1 for easier running and update the phase 2 on the same page.**\n",
    "\n",
    "1. First: Continue doing the **take home** exercises in the [DM2025-Lab1-Master](https://github.com/leoson-wu/DM2025-Lab1-Exercise/blob/main/DM2025-Lab1-Master.ipynb) for **phase 2, starting from Finding frequent patterns**. Use the same master(.ipynb) file. Answer from phase 1 will not be considered at this stage. You can answer in the master file. __This part is worth 10% of your grade.__\n",
    "\n",
    "\n",
    "2. Second: Continue from first phase and do the same process from the [DM2025-Lab1-Master](https://github.com/leoson-wu/DM2025-Lab1-Exercise/blob/main/DM2025-Lab1-Master.ipynb) on **the new dataset** for phase 2, starting from Finding frequent pattern. You can skip some exercises if you think some steps are not necessary. However main exercises should be completed. You don't need to explain all details as we did (some **minimal comments** explaining your code are useful though).  __This part is worth 15% of your grade.__\n",
    "    - Continue using this file to complete the homework from the second part. Make sure the code can be run from the beginning till the end and has all the needed output. Use the same new dataset as in phase 1.\n",
    "    \n",
    "    - You are allowed to use and modify the `helper` functions in the folder of the first lab session (notice they may need modification) or create your own.\n",
    "\n",
    "3. Third: please attempt the following tasks on **the new dataset**. __This part is worth 20% of your grade.__\n",
    "    - Use this file to answer.\n",
    "    - Generate **TF-IDF features** from the tokens of each text. This will generating a document matrix, however, the weights will be computed differently (using the TF-IDF value of each word per document as opposed to the word frequency).  Refer to this Scikit-learn [guide](http://scikit-learn.org/stable/modules/generated/sklearn.feature_extraction.text.TfidfVectorizer.html) .\n",
    "    - Implement a simple **Naive Bayes classifier** that automatically classifies the records into their categories. Use both the TF-IDF features and word frequency features to build two seperate classifiers. Note that for the TF-IDF features you might need to use other type of NB classifier different than the one in the Master Notebook. Comment on the differences and when using augmentation with feature pattern.  Refer to this [article](https://hub.packtpub.com/implementing-3-naive-bayes-classifiers-in-scikit-learn/).\n",
    "\n",
    "\n",
    "4. Fourth: In the lab, we applied each step really quickly just to illustrate how to work with your dataset. There are somethings that are not ideal or the most efficient/meaningful. Each dataset can be handled differently as well. What are those inefficent parts you noticed? How can you improve the Data preprocessing for these specific datasets? __This part is worth 10% of your grade.__\n",
    "\n",
    "\n",
    "5. Fifth: It's hard for us to follow if your code is messy, so please **tidy up your notebook** and **add minimal comments where needed**. __This part is worth 5% of your grade.__\n",
    "\n",
    "\n",
    "You can submit your homework following these guidelines: [DM2025-Lab1-announcement](https://github.com/leoson-wu/DM2025-Lab1-Announcement/blob/main/README.md). Make sure to commit and save your changes to your repository __BEFORE the deadline (October 19th 11:59 pm, Sunday)__. "
   ]
  },
  {
   "cell_type": "markdown",
   "metadata": {},
   "source": [
    "# Phase 1"
   ]
  },
  {
   "cell_type": "markdown",
   "metadata": {},
   "source": [
    "### **1.環境跟工具**"
   ]
  },
  {
   "cell_type": "code",
   "execution_count": 66,
   "metadata": {},
   "outputs": [
    {
     "name": "stderr",
     "output_type": "stream",
     "text": [
      "[nltk_data] Downloading package punkt to\n",
      "[nltk_data]     C:\\Users\\廖雨潔\\AppData\\Roaming\\nltk_data...\n",
      "[nltk_data]   Package punkt is already up-to-date!\n"
     ]
    }
   ],
   "source": [
    "import pandas as pd\n",
    "import numpy as np\n",
    "import nltk\n",
    "nltk.download('punkt') # download the NLTK datasets\n",
    "from sklearn.feature_extraction.text import CountVectorizer\n",
    "import plotly as py\n",
    "import math\n",
    "import PAMI\n",
    "import umap"
   ]
  },
  {
   "cell_type": "code",
   "execution_count": 67,
   "metadata": {},
   "outputs": [
    {
     "name": "stdout",
     "output_type": "stream",
     "text": [
      "The autoreload extension is already loaded. To reload it, use:\n",
      "  %reload_ext autoreload\n",
      "C:\\gitHub\\DM2025-Lab1-Exercise\\.venv\\Scripts\\python.exe\n",
      "3.11.0 (main, Oct 24 2022, 18:26:48) [MSC v.1933 64 bit (AMD64)]\n"
     ]
    }
   ],
   "source": [
    "# TEST necessary for 自動重新載入外部程式碼\n",
    "%load_ext autoreload\n",
    "%autoreload 2\n",
    "import sys\n",
    "print(sys.executable) # c:\\<your path to the project directory>\\.venv\\Scripts\\python.exe\n",
    "print(sys.version) #3.11.0"
   ]
  },
  {
   "cell_type": "markdown",
   "metadata": {},
   "source": [
    "### **2.載入資料**\n",
    "發現幾個欄位必較特別:  \n",
    "**polarity** 欄位 是紀錄文本的情感極性（sentiment polarity）:1 ~ -1  \n",
    "**Sentiment** 欄位 是情感分類 (1.0 表示正面，0.0 表示中性，-1.0 表示負面 )  \n",
    "**subjectivity** 欄位是紀錄主觀或客觀  "
   ]
  },
  {
   "cell_type": "code",
   "execution_count": 68,
   "metadata": {
    "scrolled": true
   },
   "outputs": [
    {
     "name": "stdout",
     "output_type": "stream",
     "text": [
      "<class 'pandas.core.frame.DataFrame'>\n",
      "RangeIndex: 847 entries, 0 to 846\n",
      "Data columns (total 16 columns):\n",
      " #   Column        Non-Null Count  Dtype  \n",
      "---  ------        --------------  -----  \n",
      " 0   type          847 non-null    object \n",
      " 1   datetime      847 non-null    object \n",
      " 2   post_id       847 non-null    object \n",
      " 3   subreddit     847 non-null    object \n",
      " 4   title         847 non-null    object \n",
      " 5   author        847 non-null    object \n",
      " 6   url           847 non-null    object \n",
      " 7   upvotes       847 non-null    int64  \n",
      " 8   downvotes     64 non-null     float64\n",
      " 9   upvote_ratio  64 non-null     float64\n",
      " 10  text          847 non-null    object \n",
      " 11  subjectivity  847 non-null    float64\n",
      " 12  polarity      847 non-null    float64\n",
      " 13  sentiment     847 non-null    float64\n",
      " 14  entities      847 non-null    object \n",
      " 15  label         847 non-null    float64\n",
      "dtypes: float64(6), int64(1), object(9)\n",
      "memory usage: 106.0+ KB\n",
      "None\n"
     ]
    }
   ],
   "source": [
    "#CSV 檔案路徑\n",
    "file_path = \"C:/gitHub/DM2025-Lab1-Exercise/newdataset/Reddit-stock-sentiment.csv\"\n",
    "ori_df = pd.read_csv(file_path, encoding='latin1') \n",
    "print(ori_df.info())\n"
   ]
  },
  {
   "cell_type": "markdown",
   "metadata": {},
   "source": [
    "### **3.轉換為 Dataframe**"
   ]
  },
  {
   "cell_type": "markdown",
   "metadata": {},
   "source": [
    "說明 : 和範例一樣把text 欄位變成 DataFrame"
   ]
  },
  {
   "cell_type": "code",
   "execution_count": 69,
   "metadata": {},
   "outputs": [
    {
     "name": "stdout",
     "output_type": "stream",
     "text": [
      "                                                text\n",
      "0                                   Calls on retards\n",
      "1  Stunt as in like why did they even make a big ...\n",
      "2                  Seeing lots of red in the ticker.\n",
      "3  Vision Marine Technologies Inc. is rewriting t...\n",
      "4                         He didnât say thank you.\n"
     ]
    },
    {
     "data": {
      "text/plain": [
       "847"
      ]
     },
     "execution_count": 69,
     "metadata": {},
     "output_type": "execute_result"
    }
   ],
   "source": [
    "import pandas as pd\n",
    "import helpers.data_mining_helpers as dmh\n",
    "#避免動到原本資料\n",
    "df = ori_df.copy()\n",
    "#把文字存成list\n",
    "text_list = df['text'].tolist()\n",
    "X = pd.DataFrame(text_list, columns=['text'])\n",
    "\n",
    "print(X[0:5])\n",
    "len(X)"
   ]
  },
  {
   "cell_type": "markdown",
   "metadata": {},
   "source": [
    "說明: 查看subreddit 欄位是否可以跟範例一樣當作 類別"
   ]
  },
  {
   "cell_type": "code",
   "execution_count": 70,
   "metadata": {},
   "outputs": [
    {
     "name": "stdout",
     "output_type": "stream",
     "text": [
      "['wallstreetbets' 'StockMarket' 'stockstobuytoday' 'stocks']\n"
     ]
    }
   ],
   "source": [
    "categories = df['subreddit'].unique()\n",
    "print(categories)"
   ]
  },
  {
   "cell_type": "code",
   "execution_count": 71,
   "metadata": {},
   "outputs": [
    {
     "data": {
      "text/html": [
       "<div>\n",
       "<style scoped>\n",
       "    .dataframe tbody tr th:only-of-type {\n",
       "        vertical-align: middle;\n",
       "    }\n",
       "\n",
       "    .dataframe tbody tr th {\n",
       "        vertical-align: top;\n",
       "    }\n",
       "\n",
       "    .dataframe thead th {\n",
       "        text-align: right;\n",
       "    }\n",
       "</style>\n",
       "<table border=\"1\" class=\"dataframe\">\n",
       "  <thead>\n",
       "    <tr style=\"text-align: right;\">\n",
       "      <th></th>\n",
       "      <th>text</th>\n",
       "      <th>category</th>\n",
       "      <th>category_name</th>\n",
       "    </tr>\n",
       "  </thead>\n",
       "  <tbody>\n",
       "    <tr>\n",
       "      <th>0</th>\n",
       "      <td>Calls on retards</td>\n",
       "      <td>0</td>\n",
       "      <td>wallstreetbets</td>\n",
       "    </tr>\n",
       "    <tr>\n",
       "      <th>1</th>\n",
       "      <td>Stunt as in like why did they even make a big ...</td>\n",
       "      <td>0</td>\n",
       "      <td>wallstreetbets</td>\n",
       "    </tr>\n",
       "    <tr>\n",
       "      <th>2</th>\n",
       "      <td>Seeing lots of red in the ticker.</td>\n",
       "      <td>1</td>\n",
       "      <td>StockMarket</td>\n",
       "    </tr>\n",
       "    <tr>\n",
       "      <th>3</th>\n",
       "      <td>Vision Marine Technologies Inc. is rewriting t...</td>\n",
       "      <td>2</td>\n",
       "      <td>stockstobuytoday</td>\n",
       "    </tr>\n",
       "    <tr>\n",
       "      <th>4</th>\n",
       "      <td>He didnât say thank you.</td>\n",
       "      <td>1</td>\n",
       "      <td>StockMarket</td>\n",
       "    </tr>\n",
       "  </tbody>\n",
       "</table>\n",
       "</div>"
      ],
      "text/plain": [
       "                                                text  category  \\\n",
       "0                                   Calls on retards         0   \n",
       "1  Stunt as in like why did they even make a big ...         0   \n",
       "2                  Seeing lots of red in the ticker.         1   \n",
       "3  Vision Marine Technologies Inc. is rewriting t...         2   \n",
       "4                         He didnât say thank you.         1   \n",
       "\n",
       "      category_name  \n",
       "0    wallstreetbets  \n",
       "1    wallstreetbets  \n",
       "2       StockMarket  \n",
       "3  stockstobuytoday  \n",
       "4       StockMarket  "
      ]
     },
     "execution_count": 71,
     "metadata": {},
     "output_type": "execute_result"
    }
   ],
   "source": [
    "category_index = {name: i for i, name in enumerate(categories)}\n",
    "X['category'] = df['subreddit'].map(category_index)\n",
    "X['category_name'] = df['subreddit']\n",
    "X.head()"
   ]
  },
  {
   "cell_type": "markdown",
   "metadata": {},
   "source": [
    "說明:    \n",
    "    1.把 **upvotes** 欄位的按讚數量float 轉 int  \n",
    "    2.把 **subjectivity** 和 **polarity** 四捨五入"
   ]
  },
  {
   "cell_type": "code",
   "execution_count": 72,
   "metadata": {},
   "outputs": [
    {
     "data": {
      "text/html": [
       "<div>\n",
       "<style scoped>\n",
       "    .dataframe tbody tr th:only-of-type {\n",
       "        vertical-align: middle;\n",
       "    }\n",
       "\n",
       "    .dataframe tbody tr th {\n",
       "        vertical-align: top;\n",
       "    }\n",
       "\n",
       "    .dataframe thead th {\n",
       "        text-align: right;\n",
       "    }\n",
       "</style>\n",
       "<table border=\"1\" class=\"dataframe\">\n",
       "  <thead>\n",
       "    <tr style=\"text-align: right;\">\n",
       "      <th></th>\n",
       "      <th>text</th>\n",
       "      <th>category</th>\n",
       "      <th>category_name</th>\n",
       "      <th>title</th>\n",
       "      <th>upvotes</th>\n",
       "      <th>downvotes</th>\n",
       "      <th>subjectivity</th>\n",
       "      <th>polarity</th>\n",
       "      <th>sentiment</th>\n",
       "    </tr>\n",
       "  </thead>\n",
       "  <tbody>\n",
       "    <tr>\n",
       "      <th>0</th>\n",
       "      <td>Calls on retards</td>\n",
       "      <td>0</td>\n",
       "      <td>wallstreetbets</td>\n",
       "      <td>Retardation is on the menu boys! WSB is so back</td>\n",
       "      <td>0</td>\n",
       "      <td>NaN</td>\n",
       "      <td>1.00</td>\n",
       "      <td>-0.90</td>\n",
       "      <td>-1</td>\n",
       "    </tr>\n",
       "    <tr>\n",
       "      <th>1</th>\n",
       "      <td>Stunt as in like why did they even make a big ...</td>\n",
       "      <td>0</td>\n",
       "      <td>wallstreetbets</td>\n",
       "      <td>Retail giant TARGET has now declined for 10 co...</td>\n",
       "      <td>-15</td>\n",
       "      <td>NaN</td>\n",
       "      <td>0.18</td>\n",
       "      <td>0.08</td>\n",
       "      <td>1</td>\n",
       "    </tr>\n",
       "    <tr>\n",
       "      <th>2</th>\n",
       "      <td>Seeing lots of red in the ticker.</td>\n",
       "      <td>1</td>\n",
       "      <td>StockMarket</td>\n",
       "      <td>How do you feel about a sitting president maki...</td>\n",
       "      <td>1</td>\n",
       "      <td>NaN</td>\n",
       "      <td>0.00</td>\n",
       "      <td>0.00</td>\n",
       "      <td>0</td>\n",
       "    </tr>\n",
       "    <tr>\n",
       "      <th>3</th>\n",
       "      <td>Vision Marine Technologies Inc. is rewriting t...</td>\n",
       "      <td>2</td>\n",
       "      <td>stockstobuytoday</td>\n",
       "      <td>Who knows more? $VMAR</td>\n",
       "      <td>30</td>\n",
       "      <td>0.0</td>\n",
       "      <td>0.65</td>\n",
       "      <td>0.22</td>\n",
       "      <td>1</td>\n",
       "    </tr>\n",
       "    <tr>\n",
       "      <th>4</th>\n",
       "      <td>He didnât say thank you.</td>\n",
       "      <td>1</td>\n",
       "      <td>StockMarket</td>\n",
       "      <td>The Trump administration is begging Xi Jinping...</td>\n",
       "      <td>1</td>\n",
       "      <td>NaN</td>\n",
       "      <td>0.00</td>\n",
       "      <td>0.00</td>\n",
       "      <td>0</td>\n",
       "    </tr>\n",
       "  </tbody>\n",
       "</table>\n",
       "</div>"
      ],
      "text/plain": [
       "                                                text  category  \\\n",
       "0                                   Calls on retards         0   \n",
       "1  Stunt as in like why did they even make a big ...         0   \n",
       "2                  Seeing lots of red in the ticker.         1   \n",
       "3  Vision Marine Technologies Inc. is rewriting t...         2   \n",
       "4                         He didnât say thank you.         1   \n",
       "\n",
       "      category_name                                              title  \\\n",
       "0    wallstreetbets    Retardation is on the menu boys! WSB is so back   \n",
       "1    wallstreetbets  Retail giant TARGET has now declined for 10 co...   \n",
       "2       StockMarket  How do you feel about a sitting president maki...   \n",
       "3  stockstobuytoday                              Who knows more? $VMAR   \n",
       "4       StockMarket  The Trump administration is begging Xi Jinping...   \n",
       "\n",
       "   upvotes  downvotes  subjectivity  polarity  sentiment  \n",
       "0        0        NaN          1.00     -0.90         -1  \n",
       "1      -15        NaN          0.18      0.08          1  \n",
       "2        1        NaN          0.00      0.00          0  \n",
       "3       30        0.0          0.65      0.22          1  \n",
       "4        1        NaN          0.00      0.00          0  "
      ]
     },
     "execution_count": 72,
     "metadata": {},
     "output_type": "execute_result"
    }
   ],
   "source": [
    "X['title'] = df['title']\n",
    "X['upvotes'] = df['upvotes'].astype(int)\n",
    "X['downvotes'] = df['downvotes']\n",
    "X['subjectivity'] = df['subjectivity'].round(2) #紀錄主觀或客觀\n",
    "X['polarity'] = df['polarity'].round(2) #文本的情感極性\n",
    "X['sentiment'] = df['sentiment'].astype(int) #正面/負面/中性\n",
    "X.head()"
   ]
  },
  {
   "cell_type": "markdown",
   "metadata": {},
   "source": [
    "### **4.處理缺失值**"
   ]
  },
  {
   "cell_type": "code",
   "execution_count": 73,
   "metadata": {},
   "outputs": [
    {
     "data": {
      "text/html": [
       "<div>\n",
       "<style scoped>\n",
       "    .dataframe tbody tr th:only-of-type {\n",
       "        vertical-align: middle;\n",
       "    }\n",
       "\n",
       "    .dataframe tbody tr th {\n",
       "        vertical-align: top;\n",
       "    }\n",
       "\n",
       "    .dataframe thead th {\n",
       "        text-align: right;\n",
       "    }\n",
       "</style>\n",
       "<table border=\"1\" class=\"dataframe\">\n",
       "  <thead>\n",
       "    <tr style=\"text-align: right;\">\n",
       "      <th></th>\n",
       "      <th>text</th>\n",
       "      <th>category</th>\n",
       "      <th>category_name</th>\n",
       "      <th>title</th>\n",
       "      <th>upvotes</th>\n",
       "      <th>downvotes</th>\n",
       "      <th>subjectivity</th>\n",
       "      <th>polarity</th>\n",
       "      <th>sentiment</th>\n",
       "    </tr>\n",
       "  </thead>\n",
       "  <tbody>\n",
       "    <tr>\n",
       "      <th>0</th>\n",
       "      <td>The amoung of missing records is:</td>\n",
       "      <td>The amoung of missing records is:</td>\n",
       "      <td>The amoung of missing records is:</td>\n",
       "      <td>The amoung of missing records is:</td>\n",
       "      <td>The amoung of missing records is:</td>\n",
       "      <td>The amoung of missing records is:</td>\n",
       "      <td>The amoung of missing records is:</td>\n",
       "      <td>The amoung of missing records is:</td>\n",
       "      <td>The amoung of missing records is:</td>\n",
       "    </tr>\n",
       "    <tr>\n",
       "      <th>1</th>\n",
       "      <td>0</td>\n",
       "      <td>0</td>\n",
       "      <td>0</td>\n",
       "      <td>0</td>\n",
       "      <td>0</td>\n",
       "      <td>783</td>\n",
       "      <td>0</td>\n",
       "      <td>0</td>\n",
       "      <td>0</td>\n",
       "    </tr>\n",
       "  </tbody>\n",
       "</table>\n",
       "</div>"
      ],
      "text/plain": [
       "                                 text                            category  \\\n",
       "0  The amoung of missing records is:   The amoung of missing records is:    \n",
       "1                                   0                                   0   \n",
       "\n",
       "                        category_name                               title  \\\n",
       "0  The amoung of missing records is:   The amoung of missing records is:    \n",
       "1                                   0                                   0   \n",
       "\n",
       "                              upvotes                           downvotes  \\\n",
       "0  The amoung of missing records is:   The amoung of missing records is:    \n",
       "1                                   0                                 783   \n",
       "\n",
       "                         subjectivity                            polarity  \\\n",
       "0  The amoung of missing records is:   The amoung of missing records is:    \n",
       "1                                   0                                   0   \n",
       "\n",
       "                            sentiment  \n",
       "0  The amoung of missing records is:   \n",
       "1                                   0  "
      ]
     },
     "execution_count": 73,
     "metadata": {},
     "output_type": "execute_result"
    }
   ],
   "source": [
    "X.isnull().apply(lambda x: dmh.check_missing_values(x))"
   ]
  },
  {
   "cell_type": "markdown",
   "metadata": {},
   "source": [
    "說明:  \n",
    "確認 X (data frame )總共有847筆資料  \n",
    "並發現 **downvotes** 按倒讚的數量很多null，先給0"
   ]
  },
  {
   "cell_type": "code",
   "execution_count": 74,
   "metadata": {},
   "outputs": [
    {
     "data": {
      "text/plain": [
       "847"
      ]
     },
     "execution_count": 74,
     "metadata": {},
     "output_type": "execute_result"
    }
   ],
   "source": [
    "len(X) "
   ]
  },
  {
   "cell_type": "code",
   "execution_count": 75,
   "metadata": {},
   "outputs": [],
   "source": [
    "X['downvotes'] = X['downvotes'].fillna(0).astype(int)"
   ]
  },
  {
   "cell_type": "markdown",
   "metadata": {},
   "source": [
    "說明:  \n",
    "在第三階段轉換成data frame 的時候 **upvotes**  按讚數量有負值，資料集已有 **downvotes** 記錄倒讚數，因此 **upvotes**按讚數量為負的似乎不合理  \n",
    "因此 在data_mining_helpers.py 新增檢查負值的函數 check_negative_values() 和 移除負值drop_negative_rows"
   ]
  },
  {
   "cell_type": "code",
   "execution_count": 76,
   "metadata": {},
   "outputs": [
    {
     "data": {
      "text/plain": [
       "category          0\n",
       "upvotes          21\n",
       "downvotes         0\n",
       "subjectivity      0\n",
       "polarity        197\n",
       "sentiment       197\n",
       "Name: Negative Count, dtype: int64"
      ]
     },
     "execution_count": 76,
     "metadata": {},
     "output_type": "execute_result"
    }
   ],
   "source": [
    "dmh.check_negative_values(X)"
   ]
  },
  {
   "cell_type": "markdown",
   "metadata": {},
   "source": [
    "說明:  \n",
    "利用X_clean 記錄新的list，避免後續有問題，要重新處理X"
   ]
  },
  {
   "cell_type": "code",
   "execution_count": 77,
   "metadata": {},
   "outputs": [
    {
     "data": {
      "text/html": [
       "<div>\n",
       "<style scoped>\n",
       "    .dataframe tbody tr th:only-of-type {\n",
       "        vertical-align: middle;\n",
       "    }\n",
       "\n",
       "    .dataframe tbody tr th {\n",
       "        vertical-align: top;\n",
       "    }\n",
       "\n",
       "    .dataframe thead th {\n",
       "        text-align: right;\n",
       "    }\n",
       "</style>\n",
       "<table border=\"1\" class=\"dataframe\">\n",
       "  <thead>\n",
       "    <tr style=\"text-align: right;\">\n",
       "      <th></th>\n",
       "      <th>text</th>\n",
       "      <th>category</th>\n",
       "      <th>category_name</th>\n",
       "      <th>title</th>\n",
       "      <th>upvotes</th>\n",
       "      <th>downvotes</th>\n",
       "      <th>subjectivity</th>\n",
       "      <th>polarity</th>\n",
       "      <th>sentiment</th>\n",
       "    </tr>\n",
       "  </thead>\n",
       "  <tbody>\n",
       "    <tr>\n",
       "      <th>0</th>\n",
       "      <td>Calls on retards</td>\n",
       "      <td>0</td>\n",
       "      <td>wallstreetbets</td>\n",
       "      <td>Retardation is on the menu boys! WSB is so back</td>\n",
       "      <td>0</td>\n",
       "      <td>0</td>\n",
       "      <td>1.00</td>\n",
       "      <td>-0.90</td>\n",
       "      <td>-1</td>\n",
       "    </tr>\n",
       "    <tr>\n",
       "      <th>2</th>\n",
       "      <td>Seeing lots of red in the ticker.</td>\n",
       "      <td>1</td>\n",
       "      <td>StockMarket</td>\n",
       "      <td>How do you feel about a sitting president maki...</td>\n",
       "      <td>1</td>\n",
       "      <td>0</td>\n",
       "      <td>0.00</td>\n",
       "      <td>0.00</td>\n",
       "      <td>0</td>\n",
       "    </tr>\n",
       "    <tr>\n",
       "      <th>3</th>\n",
       "      <td>Vision Marine Technologies Inc. is rewriting t...</td>\n",
       "      <td>2</td>\n",
       "      <td>stockstobuytoday</td>\n",
       "      <td>Who knows more? $VMAR</td>\n",
       "      <td>30</td>\n",
       "      <td>0</td>\n",
       "      <td>0.65</td>\n",
       "      <td>0.22</td>\n",
       "      <td>1</td>\n",
       "    </tr>\n",
       "    <tr>\n",
       "      <th>4</th>\n",
       "      <td>He didnât say thank you.</td>\n",
       "      <td>1</td>\n",
       "      <td>StockMarket</td>\n",
       "      <td>The Trump administration is begging Xi Jinping...</td>\n",
       "      <td>1</td>\n",
       "      <td>0</td>\n",
       "      <td>0.00</td>\n",
       "      <td>0.00</td>\n",
       "      <td>0</td>\n",
       "    </tr>\n",
       "    <tr>\n",
       "      <th>5</th>\n",
       "      <td>Hoping to ejaculate in wet warm puss tonight, ...</td>\n",
       "      <td>0</td>\n",
       "      <td>wallstreetbets</td>\n",
       "      <td>Weekend Discussion Thread for the Weekend of A...</td>\n",
       "      <td>16</td>\n",
       "      <td>0</td>\n",
       "      <td>0.50</td>\n",
       "      <td>0.25</td>\n",
       "      <td>1</td>\n",
       "    </tr>\n",
       "  </tbody>\n",
       "</table>\n",
       "</div>"
      ],
      "text/plain": [
       "                                                text  category  \\\n",
       "0                                   Calls on retards         0   \n",
       "2                  Seeing lots of red in the ticker.         1   \n",
       "3  Vision Marine Technologies Inc. is rewriting t...         2   \n",
       "4                         He didnât say thank you.         1   \n",
       "5  Hoping to ejaculate in wet warm puss tonight, ...         0   \n",
       "\n",
       "      category_name                                              title  \\\n",
       "0    wallstreetbets    Retardation is on the menu boys! WSB is so back   \n",
       "2       StockMarket  How do you feel about a sitting president maki...   \n",
       "3  stockstobuytoday                              Who knows more? $VMAR   \n",
       "4       StockMarket  The Trump administration is begging Xi Jinping...   \n",
       "5    wallstreetbets  Weekend Discussion Thread for the Weekend of A...   \n",
       "\n",
       "   upvotes  downvotes  subjectivity  polarity  sentiment  \n",
       "0        0          0          1.00     -0.90         -1  \n",
       "2        1          0          0.00      0.00          0  \n",
       "3       30          0          0.65      0.22          1  \n",
       "4        1          0          0.00      0.00          0  \n",
       "5       16          0          0.50      0.25          1  "
      ]
     },
     "execution_count": 77,
     "metadata": {},
     "output_type": "execute_result"
    }
   ],
   "source": [
    "cols_to_check = ['upvotes']\n",
    "X_clean = dmh.drop_negative_rows(X,cols_to_check)\n",
    "dmh.check_negative_values(X_clean)\n",
    "X_clean.head()"
   ]
  },
  {
   "cell_type": "markdown",
   "metadata": {},
   "source": [
    "### **4.2處理重複資料**"
   ]
  },
  {
   "cell_type": "markdown",
   "metadata": {},
   "source": [
    "說明:  \n",
    "以text 去看重複值"
   ]
  },
  {
   "cell_type": "code",
   "execution_count": 78,
   "metadata": {},
   "outputs": [
    {
     "data": {
      "text/html": [
       "<div>\n",
       "<style scoped>\n",
       "    .dataframe tbody tr th:only-of-type {\n",
       "        vertical-align: middle;\n",
       "    }\n",
       "\n",
       "    .dataframe tbody tr th {\n",
       "        vertical-align: top;\n",
       "    }\n",
       "\n",
       "    .dataframe thead th {\n",
       "        text-align: right;\n",
       "    }\n",
       "</style>\n",
       "<table border=\"1\" class=\"dataframe\">\n",
       "  <thead>\n",
       "    <tr style=\"text-align: right;\">\n",
       "      <th></th>\n",
       "      <th>text</th>\n",
       "      <th>category</th>\n",
       "      <th>category_name</th>\n",
       "      <th>title</th>\n",
       "      <th>upvotes</th>\n",
       "      <th>downvotes</th>\n",
       "      <th>subjectivity</th>\n",
       "      <th>polarity</th>\n",
       "      <th>sentiment</th>\n",
       "    </tr>\n",
       "  </thead>\n",
       "  <tbody>\n",
       "    <tr>\n",
       "      <th>42</th>\n",
       "      <td>So they went from saying redditors are bad for...</td>\n",
       "      <td>3</td>\n",
       "      <td>stocks</td>\n",
       "      <td>It's fucking awful seeing the \"Silver\" misinfo...</td>\n",
       "      <td>3943</td>\n",
       "      <td>0</td>\n",
       "      <td>0.67</td>\n",
       "      <td>-0.70</td>\n",
       "      <td>-1</td>\n",
       "    </tr>\n",
       "    <tr>\n",
       "      <th>349</th>\n",
       "      <td>Updated Daily by EOD\\n\\n  \\n[Daily Shorts]()</td>\n",
       "      <td>2</td>\n",
       "      <td>stockstobuytoday</td>\n",
       "      <td>FINRA Daily Shorts Data</td>\n",
       "      <td>1</td>\n",
       "      <td>0</td>\n",
       "      <td>0.10</td>\n",
       "      <td>0.00</td>\n",
       "      <td>0</td>\n",
       "    </tr>\n",
       "    <tr>\n",
       "      <th>352</th>\n",
       "      <td>how does the futures market look today\\n\\nSPY,...</td>\n",
       "      <td>2</td>\n",
       "      <td>stockstobuytoday</td>\n",
       "      <td>Futures Market</td>\n",
       "      <td>1</td>\n",
       "      <td>0</td>\n",
       "      <td>0.38</td>\n",
       "      <td>0.06</td>\n",
       "      <td>1</td>\n",
       "    </tr>\n",
       "    <tr>\n",
       "      <th>387</th>\n",
       "      <td>This data is from FINRA ATS - Updated Weekly\\n...</td>\n",
       "      <td>2</td>\n",
       "      <td>stockstobuytoday</td>\n",
       "      <td>Dark Pool Data</td>\n",
       "      <td>1</td>\n",
       "      <td>0</td>\n",
       "      <td>0.00</td>\n",
       "      <td>0.00</td>\n",
       "      <td>0</td>\n",
       "    </tr>\n",
       "    <tr>\n",
       "      <th>432</th>\n",
       "      <td>&amp;#x200B;\\n\\n [Cryptocurrency Prices, Charts, D...</td>\n",
       "      <td>2</td>\n",
       "      <td>stockstobuytoday</td>\n",
       "      <td>Crypto Gainers - Coinbase</td>\n",
       "      <td>1</td>\n",
       "      <td>0</td>\n",
       "      <td>0.00</td>\n",
       "      <td>0.00</td>\n",
       "      <td>0</td>\n",
       "    </tr>\n",
       "    <tr>\n",
       "      <th>438</th>\n",
       "      <td>Summarized with Highlights, updated weekly be ...</td>\n",
       "      <td>2</td>\n",
       "      <td>stockstobuytoday</td>\n",
       "      <td>Commitment of Trader Report</td>\n",
       "      <td>1</td>\n",
       "      <td>0</td>\n",
       "      <td>0.00</td>\n",
       "      <td>0.00</td>\n",
       "      <td>0</td>\n",
       "    </tr>\n",
       "    <tr>\n",
       "      <th>462</th>\n",
       "      <td>This data is from FINRA ATS - Updated Weekly\\n...</td>\n",
       "      <td>2</td>\n",
       "      <td>stockstobuytoday</td>\n",
       "      <td>Dark Pool Data</td>\n",
       "      <td>1</td>\n",
       "      <td>0</td>\n",
       "      <td>0.00</td>\n",
       "      <td>0.00</td>\n",
       "      <td>0</td>\n",
       "    </tr>\n",
       "    <tr>\n",
       "      <th>473</th>\n",
       "      <td>how does the futures market look today\\n\\nSPY,...</td>\n",
       "      <td>2</td>\n",
       "      <td>stockstobuytoday</td>\n",
       "      <td>Futures Market</td>\n",
       "      <td>1</td>\n",
       "      <td>0</td>\n",
       "      <td>0.38</td>\n",
       "      <td>0.06</td>\n",
       "      <td>1</td>\n",
       "    </tr>\n",
       "    <tr>\n",
       "      <th>520</th>\n",
       "      <td>Updated Daily by EOD\\n\\n  \\n[Daily Shorts]()</td>\n",
       "      <td>2</td>\n",
       "      <td>stockstobuytoday</td>\n",
       "      <td>FINRA Daily Shorts Data</td>\n",
       "      <td>1</td>\n",
       "      <td>0</td>\n",
       "      <td>0.10</td>\n",
       "      <td>0.00</td>\n",
       "      <td>0</td>\n",
       "    </tr>\n",
       "    <tr>\n",
       "      <th>541</th>\n",
       "      <td>\\n\\n [Threshold (stockbuyvest.com)]() \\n\\n$AMC...</td>\n",
       "      <td>2</td>\n",
       "      <td>stockstobuytoday</td>\n",
       "      <td>Threshold Securities -aka Naked Shorts</td>\n",
       "      <td>1</td>\n",
       "      <td>0</td>\n",
       "      <td>0.00</td>\n",
       "      <td>0.00</td>\n",
       "      <td>0</td>\n",
       "    </tr>\n",
       "    <tr>\n",
       "      <th>583</th>\n",
       "      <td>Stocks that are trending up today\\n\\n [Popping...</td>\n",
       "      <td>2</td>\n",
       "      <td>stockstobuytoday</td>\n",
       "      <td>Stock Gainers for Today</td>\n",
       "      <td>2</td>\n",
       "      <td>0</td>\n",
       "      <td>0.00</td>\n",
       "      <td>0.00</td>\n",
       "      <td>0</td>\n",
       "    </tr>\n",
       "    <tr>\n",
       "      <th>588</th>\n",
       "      <td>This data is from FINRA ATS - Updated Weekly\\n...</td>\n",
       "      <td>2</td>\n",
       "      <td>stockstobuytoday</td>\n",
       "      <td>Dark Pool Data</td>\n",
       "      <td>1</td>\n",
       "      <td>0</td>\n",
       "      <td>0.00</td>\n",
       "      <td>0.00</td>\n",
       "      <td>0</td>\n",
       "    </tr>\n",
       "    <tr>\n",
       "      <th>595</th>\n",
       "      <td>&amp;#x200B;\\n\\n [Cryptocurrency Prices, Charts, D...</td>\n",
       "      <td>2</td>\n",
       "      <td>stockstobuytoday</td>\n",
       "      <td>Crypto Gainers - Coinbase</td>\n",
       "      <td>1</td>\n",
       "      <td>0</td>\n",
       "      <td>0.00</td>\n",
       "      <td>0.00</td>\n",
       "      <td>0</td>\n",
       "    </tr>\n",
       "    <tr>\n",
       "      <th>679</th>\n",
       "      <td>&amp;#x200B;\\n\\n [Cryptocurrency Prices, Charts, D...</td>\n",
       "      <td>2</td>\n",
       "      <td>stockstobuytoday</td>\n",
       "      <td>Crypto Gainers - Coinbase</td>\n",
       "      <td>1</td>\n",
       "      <td>0</td>\n",
       "      <td>0.00</td>\n",
       "      <td>0.00</td>\n",
       "      <td>0</td>\n",
       "    </tr>\n",
       "    <tr>\n",
       "      <th>680</th>\n",
       "      <td>\\n\\n  [World Markets (stockbuyvest.com)]()</td>\n",
       "      <td>2</td>\n",
       "      <td>stockstobuytoday</td>\n",
       "      <td>World Markets</td>\n",
       "      <td>1</td>\n",
       "      <td>0</td>\n",
       "      <td>0.00</td>\n",
       "      <td>0.00</td>\n",
       "      <td>0</td>\n",
       "    </tr>\n",
       "    <tr>\n",
       "      <th>697</th>\n",
       "      <td>Updated Daily by EOD\\n\\n  \\n[Daily Shorts]()</td>\n",
       "      <td>2</td>\n",
       "      <td>stockstobuytoday</td>\n",
       "      <td>FINRA Daily Shorts Data</td>\n",
       "      <td>1</td>\n",
       "      <td>0</td>\n",
       "      <td>0.10</td>\n",
       "      <td>0.00</td>\n",
       "      <td>0</td>\n",
       "    </tr>\n",
       "    <tr>\n",
       "      <th>712</th>\n",
       "      <td>\\n\\n  [World Markets (stockbuyvest.com)]()</td>\n",
       "      <td>2</td>\n",
       "      <td>stockstobuytoday</td>\n",
       "      <td>World Markets</td>\n",
       "      <td>1</td>\n",
       "      <td>0</td>\n",
       "      <td>0.00</td>\n",
       "      <td>0.00</td>\n",
       "      <td>0</td>\n",
       "    </tr>\n",
       "    <tr>\n",
       "      <th>717</th>\n",
       "      <td>&amp;#x200B;\\n\\n [Cryptocurrency Prices, Charts, D...</td>\n",
       "      <td>2</td>\n",
       "      <td>stockstobuytoday</td>\n",
       "      <td>Crypto Gainers - Coinbase</td>\n",
       "      <td>1</td>\n",
       "      <td>0</td>\n",
       "      <td>0.00</td>\n",
       "      <td>0.00</td>\n",
       "      <td>0</td>\n",
       "    </tr>\n",
       "    <tr>\n",
       "      <th>783</th>\n",
       "      <td>Gappers for today\\n\\n [Gappers (stockbuyvest.c...</td>\n",
       "      <td>2</td>\n",
       "      <td>stockstobuytoday</td>\n",
       "      <td>Gappers (Up/Down)</td>\n",
       "      <td>1</td>\n",
       "      <td>0</td>\n",
       "      <td>0.00</td>\n",
       "      <td>0.00</td>\n",
       "      <td>0</td>\n",
       "    </tr>\n",
       "    <tr>\n",
       "      <th>786</th>\n",
       "      <td>Upgrades, Downgrades\\n\\n [Stock Analyst Recomm...</td>\n",
       "      <td>2</td>\n",
       "      <td>stockstobuytoday</td>\n",
       "      <td>Analyst Recommendations</td>\n",
       "      <td>1</td>\n",
       "      <td>0</td>\n",
       "      <td>0.00</td>\n",
       "      <td>0.00</td>\n",
       "      <td>0</td>\n",
       "    </tr>\n",
       "    <tr>\n",
       "      <th>802</th>\n",
       "      <td>Gappers for today\\n\\n [Gappers (stockbuyvest.c...</td>\n",
       "      <td>2</td>\n",
       "      <td>stockstobuytoday</td>\n",
       "      <td>Gappers (Up/Down)</td>\n",
       "      <td>1</td>\n",
       "      <td>0</td>\n",
       "      <td>0.00</td>\n",
       "      <td>0.00</td>\n",
       "      <td>0</td>\n",
       "    </tr>\n",
       "    <tr>\n",
       "      <th>836</th>\n",
       "      <td>how does the futures market look today\\n\\nSPY,...</td>\n",
       "      <td>2</td>\n",
       "      <td>stockstobuytoday</td>\n",
       "      <td>Futures Market</td>\n",
       "      <td>1</td>\n",
       "      <td>0</td>\n",
       "      <td>0.38</td>\n",
       "      <td>0.06</td>\n",
       "      <td>1</td>\n",
       "    </tr>\n",
       "    <tr>\n",
       "      <th>844</th>\n",
       "      <td>Upgrades, Downgrades\\n\\n [Stock Analyst Recomm...</td>\n",
       "      <td>2</td>\n",
       "      <td>stockstobuytoday</td>\n",
       "      <td>Analyst Recommendations</td>\n",
       "      <td>1</td>\n",
       "      <td>0</td>\n",
       "      <td>0.00</td>\n",
       "      <td>0.00</td>\n",
       "      <td>0</td>\n",
       "    </tr>\n",
       "  </tbody>\n",
       "</table>\n",
       "</div>"
      ],
      "text/plain": [
       "                                                  text  category  \\\n",
       "42   So they went from saying redditors are bad for...         3   \n",
       "349       Updated Daily by EOD\\n\\n  \\n[Daily Shorts]()         2   \n",
       "352  how does the futures market look today\\n\\nSPY,...         2   \n",
       "387  This data is from FINRA ATS - Updated Weekly\\n...         2   \n",
       "432  &#x200B;\\n\\n [Cryptocurrency Prices, Charts, D...         2   \n",
       "438  Summarized with Highlights, updated weekly be ...         2   \n",
       "462  This data is from FINRA ATS - Updated Weekly\\n...         2   \n",
       "473  how does the futures market look today\\n\\nSPY,...         2   \n",
       "520       Updated Daily by EOD\\n\\n  \\n[Daily Shorts]()         2   \n",
       "541  \\n\\n [Threshold (stockbuyvest.com)]() \\n\\n$AMC...         2   \n",
       "583  Stocks that are trending up today\\n\\n [Popping...         2   \n",
       "588  This data is from FINRA ATS - Updated Weekly\\n...         2   \n",
       "595  &#x200B;\\n\\n [Cryptocurrency Prices, Charts, D...         2   \n",
       "679  &#x200B;\\n\\n [Cryptocurrency Prices, Charts, D...         2   \n",
       "680         \\n\\n  [World Markets (stockbuyvest.com)]()         2   \n",
       "697       Updated Daily by EOD\\n\\n  \\n[Daily Shorts]()         2   \n",
       "712         \\n\\n  [World Markets (stockbuyvest.com)]()         2   \n",
       "717  &#x200B;\\n\\n [Cryptocurrency Prices, Charts, D...         2   \n",
       "783  Gappers for today\\n\\n [Gappers (stockbuyvest.c...         2   \n",
       "786  Upgrades, Downgrades\\n\\n [Stock Analyst Recomm...         2   \n",
       "802  Gappers for today\\n\\n [Gappers (stockbuyvest.c...         2   \n",
       "836  how does the futures market look today\\n\\nSPY,...         2   \n",
       "844  Upgrades, Downgrades\\n\\n [Stock Analyst Recomm...         2   \n",
       "\n",
       "        category_name                                              title  \\\n",
       "42             stocks  It's fucking awful seeing the \"Silver\" misinfo...   \n",
       "349  stockstobuytoday                            FINRA Daily Shorts Data   \n",
       "352  stockstobuytoday                                     Futures Market   \n",
       "387  stockstobuytoday                                     Dark Pool Data   \n",
       "432  stockstobuytoday                          Crypto Gainers - Coinbase   \n",
       "438  stockstobuytoday                        Commitment of Trader Report   \n",
       "462  stockstobuytoday                                     Dark Pool Data   \n",
       "473  stockstobuytoday                                     Futures Market   \n",
       "520  stockstobuytoday                            FINRA Daily Shorts Data   \n",
       "541  stockstobuytoday             Threshold Securities -aka Naked Shorts   \n",
       "583  stockstobuytoday                            Stock Gainers for Today   \n",
       "588  stockstobuytoday                                     Dark Pool Data   \n",
       "595  stockstobuytoday                          Crypto Gainers - Coinbase   \n",
       "679  stockstobuytoday                          Crypto Gainers - Coinbase   \n",
       "680  stockstobuytoday                                      World Markets   \n",
       "697  stockstobuytoday                            FINRA Daily Shorts Data   \n",
       "712  stockstobuytoday                                      World Markets   \n",
       "717  stockstobuytoday                          Crypto Gainers - Coinbase   \n",
       "783  stockstobuytoday                                  Gappers (Up/Down)   \n",
       "786  stockstobuytoday                            Analyst Recommendations   \n",
       "802  stockstobuytoday                                  Gappers (Up/Down)   \n",
       "836  stockstobuytoday                                     Futures Market   \n",
       "844  stockstobuytoday                            Analyst Recommendations   \n",
       "\n",
       "     upvotes  downvotes  subjectivity  polarity  sentiment  \n",
       "42      3943          0          0.67     -0.70         -1  \n",
       "349        1          0          0.10      0.00          0  \n",
       "352        1          0          0.38      0.06          1  \n",
       "387        1          0          0.00      0.00          0  \n",
       "432        1          0          0.00      0.00          0  \n",
       "438        1          0          0.00      0.00          0  \n",
       "462        1          0          0.00      0.00          0  \n",
       "473        1          0          0.38      0.06          1  \n",
       "520        1          0          0.10      0.00          0  \n",
       "541        1          0          0.00      0.00          0  \n",
       "583        2          0          0.00      0.00          0  \n",
       "588        1          0          0.00      0.00          0  \n",
       "595        1          0          0.00      0.00          0  \n",
       "679        1          0          0.00      0.00          0  \n",
       "680        1          0          0.00      0.00          0  \n",
       "697        1          0          0.10      0.00          0  \n",
       "712        1          0          0.00      0.00          0  \n",
       "717        1          0          0.00      0.00          0  \n",
       "783        1          0          0.00      0.00          0  \n",
       "786        1          0          0.00      0.00          0  \n",
       "802        1          0          0.00      0.00          0  \n",
       "836        1          0          0.38      0.06          1  \n",
       "844        1          0          0.00      0.00          0  "
      ]
     },
     "execution_count": 78,
     "metadata": {},
     "output_type": "execute_result"
    }
   ],
   "source": [
    "duplicates = X_clean[X_clean.duplicated(subset=['text'], keep='first')]\n",
    "duplicates"
   ]
  },
  {
   "cell_type": "markdown",
   "metadata": {},
   "source": [
    "說明:  \n",
    "刪除重複值(保留第一筆)"
   ]
  },
  {
   "cell_type": "code",
   "execution_count": 79,
   "metadata": {},
   "outputs": [
    {
     "data": {
      "text/html": [
       "<div>\n",
       "<style scoped>\n",
       "    .dataframe tbody tr th:only-of-type {\n",
       "        vertical-align: middle;\n",
       "    }\n",
       "\n",
       "    .dataframe tbody tr th {\n",
       "        vertical-align: top;\n",
       "    }\n",
       "\n",
       "    .dataframe thead th {\n",
       "        text-align: right;\n",
       "    }\n",
       "</style>\n",
       "<table border=\"1\" class=\"dataframe\">\n",
       "  <thead>\n",
       "    <tr style=\"text-align: right;\">\n",
       "      <th></th>\n",
       "      <th>text</th>\n",
       "      <th>category</th>\n",
       "      <th>category_name</th>\n",
       "      <th>title</th>\n",
       "      <th>upvotes</th>\n",
       "      <th>downvotes</th>\n",
       "      <th>subjectivity</th>\n",
       "      <th>polarity</th>\n",
       "      <th>sentiment</th>\n",
       "    </tr>\n",
       "  </thead>\n",
       "  <tbody>\n",
       "    <tr>\n",
       "      <th>0</th>\n",
       "      <td>Calls on retards</td>\n",
       "      <td>0</td>\n",
       "      <td>wallstreetbets</td>\n",
       "      <td>Retardation is on the menu boys! WSB is so back</td>\n",
       "      <td>0</td>\n",
       "      <td>0</td>\n",
       "      <td>1.00</td>\n",
       "      <td>-0.90</td>\n",
       "      <td>-1</td>\n",
       "    </tr>\n",
       "    <tr>\n",
       "      <th>2</th>\n",
       "      <td>Seeing lots of red in the ticker.</td>\n",
       "      <td>1</td>\n",
       "      <td>StockMarket</td>\n",
       "      <td>How do you feel about a sitting president maki...</td>\n",
       "      <td>1</td>\n",
       "      <td>0</td>\n",
       "      <td>0.00</td>\n",
       "      <td>0.00</td>\n",
       "      <td>0</td>\n",
       "    </tr>\n",
       "    <tr>\n",
       "      <th>3</th>\n",
       "      <td>Vision Marine Technologies Inc. is rewriting t...</td>\n",
       "      <td>2</td>\n",
       "      <td>stockstobuytoday</td>\n",
       "      <td>Who knows more? $VMAR</td>\n",
       "      <td>30</td>\n",
       "      <td>0</td>\n",
       "      <td>0.65</td>\n",
       "      <td>0.22</td>\n",
       "      <td>1</td>\n",
       "    </tr>\n",
       "    <tr>\n",
       "      <th>4</th>\n",
       "      <td>He didnât say thank you.</td>\n",
       "      <td>1</td>\n",
       "      <td>StockMarket</td>\n",
       "      <td>The Trump administration is begging Xi Jinping...</td>\n",
       "      <td>1</td>\n",
       "      <td>0</td>\n",
       "      <td>0.00</td>\n",
       "      <td>0.00</td>\n",
       "      <td>0</td>\n",
       "    </tr>\n",
       "    <tr>\n",
       "      <th>5</th>\n",
       "      <td>Hoping to ejaculate in wet warm puss tonight, ...</td>\n",
       "      <td>0</td>\n",
       "      <td>wallstreetbets</td>\n",
       "      <td>Weekend Discussion Thread for the Weekend of A...</td>\n",
       "      <td>16</td>\n",
       "      <td>0</td>\n",
       "      <td>0.50</td>\n",
       "      <td>0.25</td>\n",
       "      <td>1</td>\n",
       "    </tr>\n",
       "    <tr>\n",
       "      <th>...</th>\n",
       "      <td>...</td>\n",
       "      <td>...</td>\n",
       "      <td>...</td>\n",
       "      <td>...</td>\n",
       "      <td>...</td>\n",
       "      <td>...</td>\n",
       "      <td>...</td>\n",
       "      <td>...</td>\n",
       "      <td>...</td>\n",
       "    </tr>\n",
       "    <tr>\n",
       "      <th>841</th>\n",
       "      <td>So countries âbegging to stop the tariffsâ...</td>\n",
       "      <td>1</td>\n",
       "      <td>StockMarket</td>\n",
       "      <td>The Trump administration is begging Xi Jinping...</td>\n",
       "      <td>1</td>\n",
       "      <td>0</td>\n",
       "      <td>0.00</td>\n",
       "      <td>0.00</td>\n",
       "      <td>0</td>\n",
       "    </tr>\n",
       "    <tr>\n",
       "      <th>842</th>\n",
       "      <td>Invest now it is going to shoot up tomorrow</td>\n",
       "      <td>2</td>\n",
       "      <td>stockstobuytoday</td>\n",
       "      <td>$MRIN Marin Software killed it today. Hope som...</td>\n",
       "      <td>1</td>\n",
       "      <td>0</td>\n",
       "      <td>0.00</td>\n",
       "      <td>0.00</td>\n",
       "      <td>0</td>\n",
       "    </tr>\n",
       "    <tr>\n",
       "      <th>843</th>\n",
       "      <td>Where can I read this?</td>\n",
       "      <td>1</td>\n",
       "      <td>StockMarket</td>\n",
       "      <td>$ U.S. dollar value (crashing)</td>\n",
       "      <td>2</td>\n",
       "      <td>0</td>\n",
       "      <td>0.00</td>\n",
       "      <td>0.00</td>\n",
       "      <td>0</td>\n",
       "    </tr>\n",
       "    <tr>\n",
       "      <th>845</th>\n",
       "      <td>i sold my puts so i expect cheeto to declare w...</td>\n",
       "      <td>0</td>\n",
       "      <td>wallstreetbets</td>\n",
       "      <td>Weekend Discussion Thread for the Weekend of A...</td>\n",
       "      <td>10</td>\n",
       "      <td>0</td>\n",
       "      <td>0.00</td>\n",
       "      <td>0.00</td>\n",
       "      <td>0</td>\n",
       "    </tr>\n",
       "    <tr>\n",
       "      <th>846</th>\n",
       "      <td>![img](emote|t5_2th52|31224)</td>\n",
       "      <td>0</td>\n",
       "      <td>wallstreetbets</td>\n",
       "      <td>Someone post the hotline please.</td>\n",
       "      <td>1</td>\n",
       "      <td>0</td>\n",
       "      <td>0.00</td>\n",
       "      <td>0.00</td>\n",
       "      <td>0</td>\n",
       "    </tr>\n",
       "  </tbody>\n",
       "</table>\n",
       "<p>805 rows × 9 columns</p>\n",
       "</div>"
      ],
      "text/plain": [
       "                                                  text  category  \\\n",
       "0                                     Calls on retards         0   \n",
       "2                    Seeing lots of red in the ticker.         1   \n",
       "3    Vision Marine Technologies Inc. is rewriting t...         2   \n",
       "4                           He didnât say thank you.         1   \n",
       "5    Hoping to ejaculate in wet warm puss tonight, ...         0   \n",
       "..                                                 ...       ...   \n",
       "841  So countries âbegging to stop the tariffsâ...         1   \n",
       "842        Invest now it is going to shoot up tomorrow         2   \n",
       "843                             Where can I read this?         1   \n",
       "845  i sold my puts so i expect cheeto to declare w...         0   \n",
       "846                       ![img](emote|t5_2th52|31224)         0   \n",
       "\n",
       "        category_name                                              title  \\\n",
       "0      wallstreetbets    Retardation is on the menu boys! WSB is so back   \n",
       "2         StockMarket  How do you feel about a sitting president maki...   \n",
       "3    stockstobuytoday                              Who knows more? $VMAR   \n",
       "4         StockMarket  The Trump administration is begging Xi Jinping...   \n",
       "5      wallstreetbets  Weekend Discussion Thread for the Weekend of A...   \n",
       "..                ...                                                ...   \n",
       "841       StockMarket  The Trump administration is begging Xi Jinping...   \n",
       "842  stockstobuytoday  $MRIN Marin Software killed it today. Hope som...   \n",
       "843       StockMarket                     $ U.S. dollar value (crashing)   \n",
       "845    wallstreetbets  Weekend Discussion Thread for the Weekend of A...   \n",
       "846    wallstreetbets                   Someone post the hotline please.   \n",
       "\n",
       "     upvotes  downvotes  subjectivity  polarity  sentiment  \n",
       "0          0          0          1.00     -0.90         -1  \n",
       "2          1          0          0.00      0.00          0  \n",
       "3         30          0          0.65      0.22          1  \n",
       "4          1          0          0.00      0.00          0  \n",
       "5         16          0          0.50      0.25          1  \n",
       "..       ...        ...           ...       ...        ...  \n",
       "841        1          0          0.00      0.00          0  \n",
       "842        1          0          0.00      0.00          0  \n",
       "843        2          0          0.00      0.00          0  \n",
       "845       10          0          0.00      0.00          0  \n",
       "846        1          0          0.00      0.00          0  \n",
       "\n",
       "[805 rows x 9 columns]"
      ]
     },
     "execution_count": 79,
     "metadata": {},
     "output_type": "execute_result"
    }
   ],
   "source": [
    "X_clean = X_clean.drop_duplicates()\n",
    "X_clean"
   ]
  },
  {
   "cell_type": "code",
   "execution_count": 80,
   "metadata": {},
   "outputs": [
    {
     "data": {
      "text/plain": [
       "805"
      ]
     },
     "execution_count": 80,
     "metadata": {},
     "output_type": "execute_result"
    }
   ],
   "source": [
    "len(X_clean)"
   ]
  },
  {
   "cell_type": "markdown",
   "metadata": {},
   "source": [
    "說明:  \n",
    "利用 **Series** 計算新的new_upvote_ratio  \n",
    "new_upvote_ratio = upvotes / 總票數"
   ]
  },
  {
   "cell_type": "code",
   "execution_count": 81,
   "metadata": {},
   "outputs": [
    {
     "data": {
      "text/html": [
       "<div>\n",
       "<style scoped>\n",
       "    .dataframe tbody tr th:only-of-type {\n",
       "        vertical-align: middle;\n",
       "    }\n",
       "\n",
       "    .dataframe tbody tr th {\n",
       "        vertical-align: top;\n",
       "    }\n",
       "\n",
       "    .dataframe thead th {\n",
       "        text-align: right;\n",
       "    }\n",
       "</style>\n",
       "<table border=\"1\" class=\"dataframe\">\n",
       "  <thead>\n",
       "    <tr style=\"text-align: right;\">\n",
       "      <th></th>\n",
       "      <th>text</th>\n",
       "      <th>category</th>\n",
       "      <th>category_name</th>\n",
       "      <th>title</th>\n",
       "      <th>upvotes</th>\n",
       "      <th>downvotes</th>\n",
       "      <th>subjectivity</th>\n",
       "      <th>polarity</th>\n",
       "      <th>sentiment</th>\n",
       "      <th>new_upvote_ratio</th>\n",
       "    </tr>\n",
       "  </thead>\n",
       "  <tbody>\n",
       "    <tr>\n",
       "      <th>0</th>\n",
       "      <td>Calls on retards</td>\n",
       "      <td>0</td>\n",
       "      <td>wallstreetbets</td>\n",
       "      <td>Retardation is on the menu boys! WSB is so back</td>\n",
       "      <td>0</td>\n",
       "      <td>0</td>\n",
       "      <td>1.00</td>\n",
       "      <td>-0.90</td>\n",
       "      <td>-1</td>\n",
       "      <td>0.0</td>\n",
       "    </tr>\n",
       "    <tr>\n",
       "      <th>2</th>\n",
       "      <td>Seeing lots of red in the ticker.</td>\n",
       "      <td>1</td>\n",
       "      <td>StockMarket</td>\n",
       "      <td>How do you feel about a sitting president maki...</td>\n",
       "      <td>1</td>\n",
       "      <td>0</td>\n",
       "      <td>0.00</td>\n",
       "      <td>0.00</td>\n",
       "      <td>0</td>\n",
       "      <td>1.0</td>\n",
       "    </tr>\n",
       "    <tr>\n",
       "      <th>3</th>\n",
       "      <td>Vision Marine Technologies Inc. is rewriting t...</td>\n",
       "      <td>2</td>\n",
       "      <td>stockstobuytoday</td>\n",
       "      <td>Who knows more? $VMAR</td>\n",
       "      <td>30</td>\n",
       "      <td>0</td>\n",
       "      <td>0.65</td>\n",
       "      <td>0.22</td>\n",
       "      <td>1</td>\n",
       "      <td>1.0</td>\n",
       "    </tr>\n",
       "    <tr>\n",
       "      <th>4</th>\n",
       "      <td>He didnât say thank you.</td>\n",
       "      <td>1</td>\n",
       "      <td>StockMarket</td>\n",
       "      <td>The Trump administration is begging Xi Jinping...</td>\n",
       "      <td>1</td>\n",
       "      <td>0</td>\n",
       "      <td>0.00</td>\n",
       "      <td>0.00</td>\n",
       "      <td>0</td>\n",
       "      <td>1.0</td>\n",
       "    </tr>\n",
       "    <tr>\n",
       "      <th>5</th>\n",
       "      <td>Hoping to ejaculate in wet warm puss tonight, ...</td>\n",
       "      <td>0</td>\n",
       "      <td>wallstreetbets</td>\n",
       "      <td>Weekend Discussion Thread for the Weekend of A...</td>\n",
       "      <td>16</td>\n",
       "      <td>0</td>\n",
       "      <td>0.50</td>\n",
       "      <td>0.25</td>\n",
       "      <td>1</td>\n",
       "      <td>1.0</td>\n",
       "    </tr>\n",
       "  </tbody>\n",
       "</table>\n",
       "</div>"
      ],
      "text/plain": [
       "                                                text  category  \\\n",
       "0                                   Calls on retards         0   \n",
       "2                  Seeing lots of red in the ticker.         1   \n",
       "3  Vision Marine Technologies Inc. is rewriting t...         2   \n",
       "4                         He didnât say thank you.         1   \n",
       "5  Hoping to ejaculate in wet warm puss tonight, ...         0   \n",
       "\n",
       "      category_name                                              title  \\\n",
       "0    wallstreetbets    Retardation is on the menu boys! WSB is so back   \n",
       "2       StockMarket  How do you feel about a sitting president maki...   \n",
       "3  stockstobuytoday                              Who knows more? $VMAR   \n",
       "4       StockMarket  The Trump administration is begging Xi Jinping...   \n",
       "5    wallstreetbets  Weekend Discussion Thread for the Weekend of A...   \n",
       "\n",
       "   upvotes  downvotes  subjectivity  polarity  sentiment  new_upvote_ratio  \n",
       "0        0          0          1.00     -0.90         -1               0.0  \n",
       "2        1          0          0.00      0.00          0               1.0  \n",
       "3       30          0          0.65      0.22          1               1.0  \n",
       "4        1          0          0.00      0.00          0               1.0  \n",
       "5       16          0          0.50      0.25          1               1.0  "
      ]
     },
     "execution_count": 81,
     "metadata": {},
     "output_type": "execute_result"
    }
   ],
   "source": [
    "import numpy as np\n",
    "all_votes = X_clean['upvotes'] + X_clean['downvotes']\n",
    "\n",
    "X_clean['new_upvote_ratio'] = np.where(\n",
    "    all_votes > 0,\n",
    "    (X_clean['upvotes'] / all_votes).round(5), 0  \n",
    ")\n",
    "\n",
    "X_clean.head()"
   ]
  },
  {
   "cell_type": "markdown",
   "metadata": {},
   "source": [
    "### **5.採樣**"
   ]
  },
  {
   "cell_type": "markdown",
   "metadata": {},
   "source": [
    "採清理後總資料數量的 20% 為樣本"
   ]
  },
  {
   "cell_type": "code",
   "execution_count": 82,
   "metadata": {},
   "outputs": [
    {
     "data": {
      "text/html": [
       "<div>\n",
       "<style scoped>\n",
       "    .dataframe tbody tr th:only-of-type {\n",
       "        vertical-align: middle;\n",
       "    }\n",
       "\n",
       "    .dataframe tbody tr th {\n",
       "        vertical-align: top;\n",
       "    }\n",
       "\n",
       "    .dataframe thead th {\n",
       "        text-align: right;\n",
       "    }\n",
       "</style>\n",
       "<table border=\"1\" class=\"dataframe\">\n",
       "  <thead>\n",
       "    <tr style=\"text-align: right;\">\n",
       "      <th></th>\n",
       "      <th>text</th>\n",
       "      <th>category</th>\n",
       "      <th>category_name</th>\n",
       "      <th>title</th>\n",
       "      <th>upvotes</th>\n",
       "      <th>downvotes</th>\n",
       "      <th>subjectivity</th>\n",
       "      <th>polarity</th>\n",
       "      <th>sentiment</th>\n",
       "      <th>new_upvote_ratio</th>\n",
       "    </tr>\n",
       "  </thead>\n",
       "  <tbody>\n",
       "    <tr>\n",
       "      <th>732</th>\n",
       "      <td>Nope.</td>\n",
       "      <td>0</td>\n",
       "      <td>wallstreetbets</td>\n",
       "      <td>After Trump Tariffs, Global Investors Don't Tr...</td>\n",
       "      <td>1</td>\n",
       "      <td>0</td>\n",
       "      <td>0.0</td>\n",
       "      <td>0.00</td>\n",
       "      <td>0</td>\n",
       "      <td>1.0</td>\n",
       "    </tr>\n",
       "    <tr>\n",
       "      <th>598</th>\n",
       "      <td>Solid product, not too into the companies chart</td>\n",
       "      <td>2</td>\n",
       "      <td>stockstobuytoday</td>\n",
       "      <td>Anyone looking into Flow.TO (Water Company)?</td>\n",
       "      <td>1</td>\n",
       "      <td>0</td>\n",
       "      <td>0.1</td>\n",
       "      <td>0.00</td>\n",
       "      <td>0</td>\n",
       "      <td>1.0</td>\n",
       "    </tr>\n",
       "    <tr>\n",
       "      <th>701</th>\n",
       "      <td>\"Good afternoon!\"</td>\n",
       "      <td>3</td>\n",
       "      <td>stocks</td>\n",
       "      <td>PRESIDENT TRUMP JUST ASKED THE SUPREME COURT F...</td>\n",
       "      <td>1</td>\n",
       "      <td>0</td>\n",
       "      <td>0.6</td>\n",
       "      <td>0.88</td>\n",
       "      <td>1</td>\n",
       "      <td>1.0</td>\n",
       "    </tr>\n",
       "    <tr>\n",
       "      <th>62</th>\n",
       "      <td>Comedy gold :))</td>\n",
       "      <td>1</td>\n",
       "      <td>StockMarket</td>\n",
       "      <td>The Trump administration is begging Xi Jinping...</td>\n",
       "      <td>1</td>\n",
       "      <td>0</td>\n",
       "      <td>1.0</td>\n",
       "      <td>0.50</td>\n",
       "      <td>1</td>\n",
       "      <td>1.0</td>\n",
       "    </tr>\n",
       "  </tbody>\n",
       "</table>\n",
       "</div>"
      ],
      "text/plain": [
       "                                                text  category  \\\n",
       "732                                            Nope.         0   \n",
       "598  Solid product, not too into the companies chart         2   \n",
       "701                                \"Good afternoon!\"         3   \n",
       "62                                   Comedy gold :))         1   \n",
       "\n",
       "        category_name                                              title  \\\n",
       "732    wallstreetbets  After Trump Tariffs, Global Investors Don't Tr...   \n",
       "598  stockstobuytoday       Anyone looking into Flow.TO (Water Company)?   \n",
       "701            stocks  PRESIDENT TRUMP JUST ASKED THE SUPREME COURT F...   \n",
       "62        StockMarket  The Trump administration is begging Xi Jinping...   \n",
       "\n",
       "     upvotes  downvotes  subjectivity  polarity  sentiment  new_upvote_ratio  \n",
       "732        1          0           0.0      0.00          0               1.0  \n",
       "598        1          0           0.1      0.00          0               1.0  \n",
       "701        1          0           0.6      0.88          1               1.0  \n",
       "62         1          0           1.0      0.50          1               1.0  "
      ]
     },
     "execution_count": 82,
     "metadata": {},
     "output_type": "execute_result"
    }
   ],
   "source": [
    "X_sample = X_clean.sample(n=160) \n",
    "X_sample[0:4]"
   ]
  },
  {
   "cell_type": "markdown",
   "metadata": {},
   "source": [
    "### **5.1繪製採樣圖表**\n",
    "1.圖一: 顯示採樣後每個類別的數量  \n",
    "2.圖二: 顯示採樣前 和 已清理的資料數量  "
   ]
  },
  {
   "cell_type": "code",
   "execution_count": 83,
   "metadata": {},
   "outputs": [],
   "source": [
    "import matplotlib.pyplot as plt\n",
    "%matplotlib inline"
   ]
  },
  {
   "cell_type": "markdown",
   "metadata": {},
   "source": [
    "圖一"
   ]
  },
  {
   "cell_type": "code",
   "execution_count": 84,
   "metadata": {},
   "outputs": [
    {
     "name": "stdout",
     "output_type": "stream",
     "text": [
      "category_name\n",
      "stocks              274\n",
      "StockMarket         250\n",
      "stockstobuytoday    174\n",
      "wallstreetbets      149\n",
      "Name: count, dtype: int64\n"
     ]
    },
    {
     "data": {
      "text/plain": [
       "<Axes: title={'center': 'Category distribution'}, xlabel='category_name'>"
      ]
     },
     "execution_count": 84,
     "metadata": {},
     "output_type": "execute_result"
    },
    {
     "data": {
      "image/png": "[encoded data removed]",
      "text/plain": [
       "<Figure size 600x300 with 1 Axes>"
      ]
     },
     "metadata": {},
     "output_type": "display_data"
    }
   ],
   "source": [
    "print(X.category_name.value_counts())\n",
    "\n",
    "# plot barchart for X\n",
    "X.category_name.value_counts().plot(kind = 'bar',\n",
    "                                    title = 'Category distribution',\n",
    "                                    ylim = [0, 300],        \n",
    "                                    rot = 0, fontsize = 11, figsize = (6,3))"
   ]
  },
  {
   "cell_type": "markdown",
   "metadata": {},
   "source": [
    "圖二"
   ]
  },
  {
   "cell_type": "code",
   "execution_count": 85,
   "metadata": {},
   "outputs": [
    {
     "data": {
      "text/plain": [
       "<Axes: title={'center': 'Category distribution'}, xlabel='category_name'>"
      ]
     },
     "execution_count": 85,
     "metadata": {},
     "output_type": "execute_result"
    },
    {
     "data": {
      "image/png": "[encoded data removed]",
      "text/plain": [
       "<Figure size 700x400 with 1 Axes>"
      ]
     },
     "metadata": {},
     "output_type": "display_data"
    }
   ],
   "source": [
    "counts_X = X_clean['category_name'].value_counts()+30\n",
    "counts_sample = X_sample['category_name'].value_counts()+30\n",
    "\n",
    "combine_X = pd.DataFrame({\n",
    "    'X_clean': counts_X,\n",
    "    'X_sample': counts_sample\n",
    "})\n",
    "\n",
    "combine_X.plot(kind='bar', \n",
    "               figsize=(7,4),\n",
    "               rot=0, \n",
    "               fontsize=12, \n",
    "               title='Category distribution')"
   ]
  },
  {
   "cell_type": "markdown",
   "metadata": {},
   "source": [
    "### **5.2特徵創建**"
   ]
  },
  {
   "cell_type": "code",
   "execution_count": 86,
   "metadata": {},
   "outputs": [
    {
     "name": "stderr",
     "output_type": "stream",
     "text": [
      "[nltk_data] Downloading package punkt to\n",
      "[nltk_data]     C:\\Users\\廖雨潔\\AppData\\Roaming\\nltk_data...\n",
      "[nltk_data]   Package punkt is already up-to-date!\n",
      "[nltk_data] Downloading package punkt_tab to\n",
      "[nltk_data]     C:\\Users\\廖雨潔\\AppData\\Roaming\\nltk_data...\n",
      "[nltk_data]   Package punkt_tab is already up-to-date!\n"
     ]
    },
    {
     "data": {
      "text/plain": [
       "True"
      ]
     },
     "execution_count": 86,
     "metadata": {},
     "output_type": "execute_result"
    }
   ],
   "source": [
    "import nltk\n",
    "nltk.download(\"punkt\")\n",
    "nltk.download(\"punkt_tab\")"
   ]
  },
  {
   "cell_type": "code",
   "execution_count": 87,
   "metadata": {},
   "outputs": [],
   "source": [
    "X_clean['unigrams'] = X_clean['text'].apply(lambda x: dmh.tokenize_text(x))"
   ]
  },
  {
   "cell_type": "code",
   "execution_count": 88,
   "metadata": {},
   "outputs": [
    {
     "data": {
      "text/plain": [
       "0                                 [Calls, on, retards]\n",
       "2          [Seeing, lots, of, red, in, the, ticker, .]\n",
       "3    [Vision, Marine, Technologies, Inc., is, rewri...\n",
       "4                   [He, didnât, say, thank, you, .]\n",
       "Name: unigrams, dtype: object"
      ]
     },
     "execution_count": 88,
     "metadata": {},
     "output_type": "execute_result"
    }
   ],
   "source": [
    "X_clean[0:4][\"unigrams\"]"
   ]
  },
  {
   "cell_type": "code",
   "execution_count": 89,
   "metadata": {},
   "outputs": [
    {
     "data": {
      "text/html": [
       "<div>\n",
       "<style scoped>\n",
       "    .dataframe tbody tr th:only-of-type {\n",
       "        vertical-align: middle;\n",
       "    }\n",
       "\n",
       "    .dataframe tbody tr th {\n",
       "        vertical-align: top;\n",
       "    }\n",
       "\n",
       "    .dataframe thead th {\n",
       "        text-align: right;\n",
       "    }\n",
       "</style>\n",
       "<table border=\"1\" class=\"dataframe\">\n",
       "  <thead>\n",
       "    <tr style=\"text-align: right;\">\n",
       "      <th></th>\n",
       "      <th>text</th>\n",
       "      <th>category</th>\n",
       "      <th>category_name</th>\n",
       "      <th>title</th>\n",
       "      <th>upvotes</th>\n",
       "      <th>downvotes</th>\n",
       "      <th>subjectivity</th>\n",
       "      <th>polarity</th>\n",
       "      <th>sentiment</th>\n",
       "      <th>new_upvote_ratio</th>\n",
       "      <th>unigrams</th>\n",
       "    </tr>\n",
       "  </thead>\n",
       "  <tbody>\n",
       "    <tr>\n",
       "      <th>0</th>\n",
       "      <td>Calls on retards</td>\n",
       "      <td>0</td>\n",
       "      <td>wallstreetbets</td>\n",
       "      <td>Retardation is on the menu boys! WSB is so back</td>\n",
       "      <td>0</td>\n",
       "      <td>0</td>\n",
       "      <td>1.00</td>\n",
       "      <td>-0.90</td>\n",
       "      <td>-1</td>\n",
       "      <td>0.0</td>\n",
       "      <td>[Calls, on, retards]</td>\n",
       "    </tr>\n",
       "    <tr>\n",
       "      <th>2</th>\n",
       "      <td>Seeing lots of red in the ticker.</td>\n",
       "      <td>1</td>\n",
       "      <td>StockMarket</td>\n",
       "      <td>How do you feel about a sitting president maki...</td>\n",
       "      <td>1</td>\n",
       "      <td>0</td>\n",
       "      <td>0.00</td>\n",
       "      <td>0.00</td>\n",
       "      <td>0</td>\n",
       "      <td>1.0</td>\n",
       "      <td>[Seeing, lots, of, red, in, the, ticker, .]</td>\n",
       "    </tr>\n",
       "    <tr>\n",
       "      <th>3</th>\n",
       "      <td>Vision Marine Technologies Inc. is rewriting t...</td>\n",
       "      <td>2</td>\n",
       "      <td>stockstobuytoday</td>\n",
       "      <td>Who knows more? $VMAR</td>\n",
       "      <td>30</td>\n",
       "      <td>0</td>\n",
       "      <td>0.65</td>\n",
       "      <td>0.22</td>\n",
       "      <td>1</td>\n",
       "      <td>1.0</td>\n",
       "      <td>[Vision, Marine, Technologies, Inc., is, rewri...</td>\n",
       "    </tr>\n",
       "    <tr>\n",
       "      <th>4</th>\n",
       "      <td>He didnât say thank you.</td>\n",
       "      <td>1</td>\n",
       "      <td>StockMarket</td>\n",
       "      <td>The Trump administration is begging Xi Jinping...</td>\n",
       "      <td>1</td>\n",
       "      <td>0</td>\n",
       "      <td>0.00</td>\n",
       "      <td>0.00</td>\n",
       "      <td>0</td>\n",
       "      <td>1.0</td>\n",
       "      <td>[He, didnât, say, thank, you, .]</td>\n",
       "    </tr>\n",
       "  </tbody>\n",
       "</table>\n",
       "</div>"
      ],
      "text/plain": [
       "                                                text  category  \\\n",
       "0                                   Calls on retards         0   \n",
       "2                  Seeing lots of red in the ticker.         1   \n",
       "3  Vision Marine Technologies Inc. is rewriting t...         2   \n",
       "4                         He didnât say thank you.         1   \n",
       "\n",
       "      category_name                                              title  \\\n",
       "0    wallstreetbets    Retardation is on the menu boys! WSB is so back   \n",
       "2       StockMarket  How do you feel about a sitting president maki...   \n",
       "3  stockstobuytoday                              Who knows more? $VMAR   \n",
       "4       StockMarket  The Trump administration is begging Xi Jinping...   \n",
       "\n",
       "   upvotes  downvotes  subjectivity  polarity  sentiment  new_upvote_ratio  \\\n",
       "0        0          0          1.00     -0.90         -1               0.0   \n",
       "2        1          0          0.00      0.00          0               1.0   \n",
       "3       30          0          0.65      0.22          1               1.0   \n",
       "4        1          0          0.00      0.00          0               1.0   \n",
       "\n",
       "                                            unigrams  \n",
       "0                               [Calls, on, retards]  \n",
       "2        [Seeing, lots, of, red, in, the, ticker, .]  \n",
       "3  [Vision, Marine, Technologies, Inc., is, rewri...  \n",
       "4                 [He, didnât, say, thank, you, .]  "
      ]
     },
     "execution_count": 89,
     "metadata": {},
     "output_type": "execute_result"
    }
   ],
   "source": [
    "X_clean[0:4]"
   ]
  },
  {
   "cell_type": "markdown",
   "metadata": {},
   "source": [
    "### **5.3 特徵子集選擇**"
   ]
  },
  {
   "cell_type": "code",
   "execution_count": 90,
   "metadata": {},
   "outputs": [
    {
     "name": "stdout",
     "output_type": "stream",
     "text": [
      "  (np.int32(0), np.int32(692))\t1\n",
      "  (np.int32(0), np.int32(2707))\t1\n",
      "  (np.int32(0), np.int32(3248))\t1\n",
      "  (np.int32(1), np.int32(3386))\t1\n",
      "  (np.int32(1), np.int32(2375))\t1\n",
      "  (np.int32(1), np.int32(2688))\t1\n",
      "  (np.int32(1), np.int32(3150))\t1\n",
      "  (np.int32(1), np.int32(2027))\t1\n",
      "  (np.int32(1), np.int32(3846))\t1\n",
      "  (np.int32(1), np.int32(3888))\t1\n",
      "  (np.int32(2), np.int32(2707))\t2\n",
      "  (np.int32(2), np.int32(2688))\t4\n",
      "  (np.int32(2), np.int32(2027))\t1\n",
      "  (np.int32(2), np.int32(3846))\t8\n",
      "  (np.int32(2), np.int32(4146))\t3\n",
      "  (np.int32(2), np.int32(2427))\t3\n",
      "  (np.int32(2), np.int32(3820))\t3\n",
      "  (np.int32(2), np.int32(2029))\t3\n",
      "  (np.int32(2), np.int32(2151))\t3\n",
      "  (np.int32(2), np.int32(3262))\t1\n",
      "  (np.int32(2), np.int32(4193))\t2\n",
      "  (np.int32(2), np.int32(3312))\t1\n",
      "  (np.int32(2), np.int32(3847))\t2\n",
      "  (np.int32(2), np.int32(857))\t2\n",
      "  (np.int32(2), np.int32(4277))\t3\n",
      "  :\t:\n",
      "  (np.int32(801), np.int32(1744))\t1\n",
      "  (np.int32(801), np.int32(2667))\t1\n",
      "  (np.int32(801), np.int32(4072))\t1\n",
      "  (np.int32(801), np.int32(2126))\t1\n",
      "  (np.int32(801), np.int32(3923))\t1\n",
      "  (np.int32(801), np.int32(3461))\t1\n",
      "  (np.int32(802), np.int32(3866))\t1\n",
      "  (np.int32(802), np.int32(697))\t1\n",
      "  (np.int32(802), np.int32(4235))\t1\n",
      "  (np.int32(802), np.int32(3114))\t1\n",
      "  (np.int32(803), np.int32(2707))\t1\n",
      "  (np.int32(803), np.int32(3911))\t1\n",
      "  (np.int32(803), np.int32(4176))\t1\n",
      "  (np.int32(803), np.int32(2582))\t1\n",
      "  (np.int32(803), np.int32(3543))\t1\n",
      "  (np.int32(803), np.int32(1448))\t1\n",
      "  (np.int32(803), np.int32(3050))\t1\n",
      "  (np.int32(803), np.int32(3547))\t1\n",
      "  (np.int32(803), np.int32(1098))\t1\n",
      "  (np.int32(803), np.int32(783))\t1\n",
      "  (np.int32(803), np.int32(1134))\t1\n",
      "  (np.int32(804), np.int32(2002))\t1\n",
      "  (np.int32(804), np.int32(1348))\t1\n",
      "  (np.int32(804), np.int32(3772))\t1\n",
      "  (np.int32(804), np.int32(95))\t1\n"
     ]
    }
   ],
   "source": [
    "from sklearn.feature_extraction.text import CountVectorizer\n",
    "\n",
    "count_vect = CountVectorizer()\n",
    "X_counts = count_vect.fit_transform(X_clean.text) \n",
    "print(X_counts)"
   ]
  },
  {
   "cell_type": "code",
   "execution_count": 91,
   "metadata": {},
   "outputs": [
    {
     "data": {
      "text/plain": [
       "'calls'"
      ]
     },
     "execution_count": 91,
     "metadata": {},
     "output_type": "execute_result"
    }
   ],
   "source": [
    "count_vect.get_feature_names_out()[692]"
   ]
  },
  {
   "cell_type": "code",
   "execution_count": 92,
   "metadata": {},
   "outputs": [],
   "source": [
    "#創建自己的分析器\n",
    "analyze = count_vect.build_analyzer()"
   ]
  },
  {
   "cell_type": "code",
   "execution_count": 93,
   "metadata": {},
   "outputs": [
    {
     "data": {
      "text/plain": [
       "['calls', 'on', 'retards']"
      ]
     },
     "execution_count": 93,
     "metadata": {},
     "output_type": "execute_result"
    }
   ],
   "source": [
    "#測試\n",
    "analyze(X_clean.text[0])"
   ]
  },
  {
   "cell_type": "code",
   "execution_count": 94,
   "metadata": {},
   "outputs": [
    {
     "data": {
      "text/plain": [
       "(805, 4358)"
      ]
     },
     "execution_count": 94,
     "metadata": {},
     "output_type": "execute_result"
    }
   ],
   "source": [
    "#建立 文件詞彙矩陣（document-term matrix）\n",
    "X_counts.shape"
   ]
  },
  {
   "cell_type": "code",
   "execution_count": 95,
   "metadata": {},
   "outputs": [
    {
     "data": {
      "text/plain": [
       "array(['00', '000', '01378', '02', '027', '03', '06', '08', '10', '100'],\n",
       "      dtype=object)"
      ]
     },
     "execution_count": 95,
     "metadata": {},
     "output_type": "execute_result"
    }
   ],
   "source": [
    "#測試\n",
    "count_vect.get_feature_names_out()[0:10]"
   ]
  },
  {
   "cell_type": "code",
   "execution_count": 96,
   "metadata": {},
   "outputs": [
    {
     "data": {
      "text/plain": [
       "array([[0, 0, 0, 0, 0, 0, 0, 0, 0, 0, 0, 0, 0, 0, 0, 0, 0, 0, 0, 0, 0, 0,\n",
       "        0, 0, 0, 0, 0, 0, 0, 0, 0, 0, 0, 0, 0, 0, 0, 0, 0, 0, 0, 0, 0, 0,\n",
       "        0, 0, 0, 0, 0, 0, 0, 0, 0, 0, 0, 0, 0, 0, 0, 0, 0, 0, 0, 0, 0, 0,\n",
       "        0, 0, 0, 0, 0, 0, 0, 0, 0, 0, 0, 0, 0, 0, 0, 0, 0, 0, 0, 0, 0, 0,\n",
       "        0, 0, 0, 0, 0, 0, 0, 0, 0, 0, 0, 0],\n",
       "       [0, 0, 0, 0, 0, 0, 0, 0, 0, 0, 0, 0, 0, 0, 0, 0, 0, 0, 0, 0, 0, 0,\n",
       "        0, 0, 0, 0, 0, 0, 0, 0, 0, 0, 0, 0, 0, 0, 0, 0, 0, 0, 0, 0, 0, 0,\n",
       "        0, 0, 0, 0, 0, 0, 0, 0, 0, 0, 0, 0, 0, 0, 0, 0, 0, 0, 0, 0, 0, 0,\n",
       "        0, 0, 0, 0, 0, 0, 0, 0, 0, 0, 0, 0, 0, 0, 0, 0, 0, 0, 0, 0, 0, 0,\n",
       "        0, 0, 0, 0, 0, 0, 0, 0, 0, 0, 0, 0],\n",
       "       [0, 0, 0, 0, 0, 0, 0, 0, 0, 0, 0, 0, 0, 0, 0, 0, 0, 0, 3, 0, 0, 0,\n",
       "        0, 0, 0, 0, 0, 0, 0, 0, 0, 0, 0, 0, 0, 0, 0, 0, 0, 0, 0, 0, 0, 0,\n",
       "        0, 0, 0, 0, 0, 0, 0, 0, 0, 0, 0, 0, 0, 0, 0, 0, 0, 0, 0, 0, 0, 0,\n",
       "        0, 0, 0, 0, 0, 0, 0, 0, 0, 0, 0, 0, 0, 0, 0, 0, 0, 0, 0, 0, 0, 0,\n",
       "        0, 0, 0, 0, 0, 0, 0, 0, 0, 0, 0, 0],\n",
       "       [0, 0, 0, 0, 0, 0, 0, 0, 0, 0, 0, 0, 0, 0, 0, 0, 0, 0, 0, 0, 0, 0,\n",
       "        0, 0, 0, 0, 0, 0, 0, 0, 0, 0, 0, 0, 0, 0, 0, 0, 0, 0, 0, 0, 0, 0,\n",
       "        0, 0, 0, 0, 0, 0, 0, 0, 0, 0, 0, 0, 0, 0, 0, 0, 0, 0, 0, 0, 0, 0,\n",
       "        0, 0, 0, 0, 0, 0, 0, 0, 0, 0, 0, 0, 0, 0, 0, 0, 0, 0, 0, 0, 0, 0,\n",
       "        0, 0, 0, 0, 0, 0, 0, 0, 0, 0, 0, 0],\n",
       "       [0, 0, 0, 0, 0, 0, 0, 0, 0, 0, 0, 0, 0, 0, 0, 0, 0, 0, 0, 0, 0, 0,\n",
       "        0, 0, 0, 0, 0, 0, 0, 0, 0, 0, 0, 0, 0, 0, 0, 0, 0, 0, 0, 0, 0, 0,\n",
       "        0, 0, 0, 0, 0, 0, 0, 0, 0, 0, 0, 0, 0, 0, 0, 0, 0, 0, 0, 0, 0, 0,\n",
       "        0, 0, 0, 0, 0, 0, 0, 0, 0, 0, 0, 0, 0, 0, 0, 0, 0, 0, 0, 0, 0, 0,\n",
       "        0, 0, 0, 0, 0, 0, 0, 0, 0, 0, 0, 0]])"
      ]
     },
     "execution_count": 96,
     "metadata": {},
     "output_type": "execute_result"
    }
   ],
   "source": [
    "#查看稀疏矩陣\n",
    "X_counts[0:5, 0:100].toarray()"
   ]
  },
  {
   "cell_type": "markdown",
   "metadata": {},
   "source": [
    "### 繪製熱圖 - 稀疏矩陣視覺化"
   ]
  },
  {
   "cell_type": "code",
   "execution_count": 97,
   "metadata": {},
   "outputs": [],
   "source": [
    "plot_x = [\"term_\"+str(i) for i in count_vect.get_feature_names_out()[0:30]]\n",
    "plot_y = [\"doc_\"+ str(i) for i in list(X.index)[0:30]]\n",
    "plot_z = X_counts[0:30, 0:30].toarray()"
   ]
  },
  {
   "cell_type": "code",
   "execution_count": 98,
   "metadata": {},
   "outputs": [
    {
     "data": {
      "image/png": "[encoded data removed]",
      "text/plain": [
       "<Figure size 1200x700 with 2 Axes>"
      ]
     },
     "metadata": {},
     "output_type": "display_data"
    }
   ],
   "source": [
    "import seaborn as sns\n",
    "\n",
    "df_todraw = pd.DataFrame(plot_z, columns = plot_x, index = plot_y)\n",
    "plt.subplots(figsize=(12, 7))\n",
    "ax = sns.heatmap(df_todraw,\n",
    "                 cmap=\"YlGnBu\",\n",
    "                 vmin=0, vmax=1, annot=True)"
   ]
  },
  {
   "cell_type": "markdown",
   "metadata": {},
   "source": [
    "### 矩陣圖 - 繪畫出不同類別的前幾筆的upvotes按讚數 (取 log 的 upvotes 分布)"
   ]
  },
  {
   "cell_type": "code",
   "execution_count": 99,
   "metadata": {},
   "outputs": [
    {
     "data": {
      "application/vnd.plotly.v1+json": {
       "config": {
        "plotlyServerURL": "https://plot.ly"
       },
       "data": [
        {
         "hovertemplate": "category_name=%{x}<br>Upvotes=%{y}<extra></extra>",
         "legendgroup": "",
         "marker": {
          "color": "#636efa",
          "pattern": {
           "shape": ""
          }
         },
         "name": "",
         "orientation": "v",
         "showlegend": false,
         "textposition": "auto",
         "type": "bar",
         "x": [
          "stocks",
          "stocks",
          "stocks",
          "wallstreetbets",
          "stocks",
          "stockstobuytoday",
          "StockMarket",
          "StockMarket",
          "wallstreetbets",
          "wallstreetbets",
          "stocks",
          "wallstreetbets",
          "StockMarket",
          "wallstreetbets",
          "wallstreetbets",
          "stocks",
          "wallstreetbets",
          "wallstreetbets",
          "wallstreetbets",
          "stocks",
          "stocks",
          "stocks",
          "wallstreetbets",
          "stocks",
          "wallstreetbets",
          "stocks",
          "stocks",
          "stocks",
          "stocks",
          "stocks",
          "StockMarket",
          "stockstobuytoday",
          "stocks",
          "wallstreetbets",
          "stocks",
          "stocks",
          "stockstobuytoday",
          "wallstreetbets",
          "stocks",
          "wallstreetbets",
          "StockMarket",
          "stockstobuytoday",
          "StockMarket",
          "StockMarket",
          "stocks",
          "stocks",
          "stocks",
          "stocks",
          "stocks",
          "stocks",
          "StockMarket",
          "stockstobuytoday",
          "StockMarket",
          "StockMarket",
          "stockstobuytoday",
          "stocks",
          "stockstobuytoday",
          "StockMarket",
          "stockstobuytoday",
          "StockMarket",
          "stocks",
          "stocks",
          "stockstobuytoday",
          "stocks",
          "StockMarket",
          "wallstreetbets",
          "stockstobuytoday",
          "stockstobuytoday",
          "stockstobuytoday",
          "stockstobuytoday",
          "stockstobuytoday",
          "wallstreetbets",
          "stocks",
          "StockMarket",
          "stockstobuytoday",
          "StockMarket",
          "stocks",
          "StockMarket",
          "stockstobuytoday",
          "StockMarket",
          "stocks",
          "StockMarket",
          "stocks",
          "stocks",
          "wallstreetbets",
          "StockMarket",
          "wallstreetbets",
          "stockstobuytoday",
          "StockMarket",
          "StockMarket",
          "StockMarket",
          "stocks",
          "StockMarket",
          "wallstreetbets",
          "StockMarket",
          "StockMarket",
          "stockstobuytoday",
          "wallstreetbets",
          "wallstreetbets",
          "stocks"
         ],
         "xaxis": "x",
         "y": {
          "bdata": "QwpBs1WPIEDGjMJ3dr8WQESAeP0xhxFADBPCd3DpD0BsQpC9DqEOQForkUjOeAtAkIQDuN9dCkCR43N7QvcHQHp/+sFrqgZAUYwxKwSFBEBRjDErBIUEQH2e07wW4QNAfZ7TvBbhA0BMN3+34y4DQBZVtbuxawJACwOteuqTAUBzqzs/sqIAQFdaMq5yIv8/AiAq+gur/D8CICr6C6v8PwIgKvoLq/w/AiAq+gur/D8zje33QcD5PzON7fdBwPk/7zn6/kIu9j/vOfr+Qi72P+85+v5CLvY/7zn6/kIu9j/vOfr+Qi72P+85+v5CLvY/CwOteuqT8T8LA6166pPxPwsDrXrqk/E/CwOteuqT8T8LA6166pPxPwsDrXrqk/E/CwOteuqT8T8LA6166pPxPwsDrXrqk/E/CwOteuqT8T8LA6166pPxP+85+v5CLuY/7zn6/kIu5j/vOfr+Qi7mP+85+v5CLuY/7zn6/kIu5j/vOfr+Qi7mP+85+v5CLuY/7zn6/kIu5j/vOfr+Qi7mP+85+v5CLuY/7zn6/kIu5j/vOfr+Qi7mP+85+v5CLuY/7zn6/kIu5j/vOfr+Qi7mP+85+v5CLuY/7zn6/kIu5j/vOfr+Qi7mP+85+v5CLuY/7zn6/kIu5j/vOfr+Qi7mP+85+v5CLuY/7zn6/kIu5j/vOfr+Qi7mP+85+v5CLuY/7zn6/kIu5j/vOfr+Qi7mP+85+v5CLuY/7zn6/kIu5j/vOfr+Qi7mP+85+v5CLuY/7zn6/kIu5j/vOfr+Qi7mP+85+v5CLuY/7zn6/kIu5j/vOfr+Qi7mP+85+v5CLuY/7zn6/kIu5j/vOfr+Qi7mP+85+v5CLuY/7zn6/kIu5j/vOfr+Qi7mP+85+v5CLuY/7zn6/kIu5j/vOfr+Qi7mP+85+v5CLuY/7zn6/kIu5j/vOfr+Qi7mP+85+v5CLuY/7zn6/kIu5j/vOfr+Qi7mP+85+v5CLuY/7zn6/kIu5j/vOfr+Qi7mP+85+v5CLuY/7zn6/kIu5j8AAAAAAAAAAAAAAAAAAAAAAAAAAAAAAAA=",
          "dtype": "f8"
         },
         "yaxis": "y"
        }
       ],
       "layout": {
        "barmode": "relative",
        "height": 600,
        "legend": {
         "tracegroupgap": 0
        },
        "margin": {
         "b": 170,
         "t": 60
        },
        "showlegend": false,
        "template": {
         "data": {
          "bar": [
           {
            "error_x": {
             "color": "#2a3f5f"
            },
            "error_y": {
             "color": "#2a3f5f"
            },
            "marker": {
             "line": {
              "color": "#E5ECF6",
              "width": 0.5
             },
             "pattern": {
              "fillmode": "overlay",
              "size": 10,
              "solidity": 0.2
             }
            },
            "type": "bar"
           }
          ],
          "barpolar": [
           {
            "marker": {
             "line": {
              "color": "#E5ECF6",
              "width": 0.5
             },
             "pattern": {
              "fillmode": "overlay",
              "size": 10,
              "solidity": 0.2
             }
            },
            "type": "barpolar"
           }
          ],
          "carpet": [
           {
            "aaxis": {
             "endlinecolor": "#2a3f5f",
             "gridcolor": "white",
             "linecolor": "white",
             "minorgridcolor": "white",
             "startlinecolor": "#2a3f5f"
            },
            "baxis": {
             "endlinecolor": "#2a3f5f",
             "gridcolor": "white",
             "linecolor": "white",
             "minorgridcolor": "white",
             "startlinecolor": "#2a3f5f"
            },
            "type": "carpet"
           }
          ],
          "choropleth": [
           {
            "colorbar": {
             "outlinewidth": 0,
             "ticks": ""
            },
            "type": "choropleth"
           }
          ],
          "contour": [
           {
            "colorbar": {
             "outlinewidth": 0,
             "ticks": ""
            },
            "colorscale": [
             [
              0,
              "#0d0887"
             ],
             [
              0.1111111111111111,
              "#46039f"
             ],
             [
              0.2222222222222222,
              "#7201a8"
             ],
             [
              0.3333333333333333,
              "#9c179e"
             ],
             [
              0.4444444444444444,
              "#bd3786"
             ],
             [
              0.5555555555555556,
              "#d8576b"
             ],
             [
              0.6666666666666666,
              "#ed7953"
             ],
             [
              0.7777777777777778,
              "#fb9f3a"
             ],
             [
              0.8888888888888888,
              "#fdca26"
             ],
             [
              1,
              "#f0f921"
             ]
            ],
            "type": "contour"
           }
          ],
          "contourcarpet": [
           {
            "colorbar": {
             "outlinewidth": 0,
             "ticks": ""
            },
            "type": "contourcarpet"
           }
          ],
          "heatmap": [
           {
            "colorbar": {
             "outlinewidth": 0,
             "ticks": ""
            },
            "colorscale": [
             [
              0,
              "#0d0887"
             ],
             [
              0.1111111111111111,
              "#46039f"
             ],
             [
              0.2222222222222222,
              "#7201a8"
             ],
             [
              0.3333333333333333,
              "#9c179e"
             ],
             [
              0.4444444444444444,
              "#bd3786"
             ],
             [
              0.5555555555555556,
              "#d8576b"
             ],
             [
              0.6666666666666666,
              "#ed7953"
             ],
             [
              0.7777777777777778,
              "#fb9f3a"
             ],
             [
              0.8888888888888888,
              "#fdca26"
             ],
             [
              1,
              "#f0f921"
             ]
            ],
            "type": "heatmap"
           }
          ],
          "histogram": [
           {
            "marker": {
             "pattern": {
              "fillmode": "overlay",
              "size": 10,
              "solidity": 0.2
             }
            },
            "type": "histogram"
           }
          ],
          "histogram2d": [
           {
            "colorbar": {
             "outlinewidth": 0,
             "ticks": ""
            },
            "colorscale": [
             [
              0,
              "#0d0887"
             ],
             [
              0.1111111111111111,
              "#46039f"
             ],
             [
              0.2222222222222222,
              "#7201a8"
             ],
             [
              0.3333333333333333,
              "#9c179e"
             ],
             [
              0.4444444444444444,
              "#bd3786"
             ],
             [
              0.5555555555555556,
              "#d8576b"
             ],
             [
              0.6666666666666666,
              "#ed7953"
             ],
             [
              0.7777777777777778,
              "#fb9f3a"
             ],
             [
              0.8888888888888888,
              "#fdca26"
             ],
             [
              1,
              "#f0f921"
             ]
            ],
            "type": "histogram2d"
           }
          ],
          "histogram2dcontour": [
           {
            "colorbar": {
             "outlinewidth": 0,
             "ticks": ""
            },
            "colorscale": [
             [
              0,
              "#0d0887"
             ],
             [
              0.1111111111111111,
              "#46039f"
             ],
             [
              0.2222222222222222,
              "#7201a8"
             ],
             [
              0.3333333333333333,
              "#9c179e"
             ],
             [
              0.4444444444444444,
              "#bd3786"
             ],
             [
              0.5555555555555556,
              "#d8576b"
             ],
             [
              0.6666666666666666,
              "#ed7953"
             ],
             [
              0.7777777777777778,
              "#fb9f3a"
             ],
             [
              0.8888888888888888,
              "#fdca26"
             ],
             [
              1,
              "#f0f921"
             ]
            ],
            "type": "histogram2dcontour"
           }
          ],
          "mesh3d": [
           {
            "colorbar": {
             "outlinewidth": 0,
             "ticks": ""
            },
            "type": "mesh3d"
           }
          ],
          "parcoords": [
           {
            "line": {
             "colorbar": {
              "outlinewidth": 0,
              "ticks": ""
             }
            },
            "type": "parcoords"
           }
          ],
          "pie": [
           {
            "automargin": true,
            "type": "pie"
           }
          ],
          "scatter": [
           {
            "fillpattern": {
             "fillmode": "overlay",
             "size": 10,
             "solidity": 0.2
            },
            "type": "scatter"
           }
          ],
          "scatter3d": [
           {
            "line": {
             "colorbar": {
              "outlinewidth": 0,
              "ticks": ""
             }
            },
            "marker": {
             "colorbar": {
              "outlinewidth": 0,
              "ticks": ""
             }
            },
            "type": "scatter3d"
           }
          ],
          "scattercarpet": [
           {
            "marker": {
             "colorbar": {
              "outlinewidth": 0,
              "ticks": ""
             }
            },
            "type": "scattercarpet"
           }
          ],
          "scattergeo": [
           {
            "marker": {
             "colorbar": {
              "outlinewidth": 0,
              "ticks": ""
             }
            },
            "type": "scattergeo"
           }
          ],
          "scattergl": [
           {
            "marker": {
             "colorbar": {
              "outlinewidth": 0,
              "ticks": ""
             }
            },
            "type": "scattergl"
           }
          ],
          "scattermap": [
           {
            "marker": {
             "colorbar": {
              "outlinewidth": 0,
              "ticks": ""
             }
            },
            "type": "scattermap"
           }
          ],
          "scattermapbox": [
           {
            "marker": {
             "colorbar": {
              "outlinewidth": 0,
              "ticks": ""
             }
            },
            "type": "scattermapbox"
           }
          ],
          "scatterpolar": [
           {
            "marker": {
             "colorbar": {
              "outlinewidth": 0,
              "ticks": ""
             }
            },
            "type": "scatterpolar"
           }
          ],
          "scatterpolargl": [
           {
            "marker": {
             "colorbar": {
              "outlinewidth": 0,
              "ticks": ""
             }
            },
            "type": "scatterpolargl"
           }
          ],
          "scatterternary": [
           {
            "marker": {
             "colorbar": {
              "outlinewidth": 0,
              "ticks": ""
             }
            },
            "type": "scatterternary"
           }
          ],
          "surface": [
           {
            "colorbar": {
             "outlinewidth": 0,
             "ticks": ""
            },
            "colorscale": [
             [
              0,
              "#0d0887"
             ],
             [
              0.1111111111111111,
              "#46039f"
             ],
             [
              0.2222222222222222,
              "#7201a8"
             ],
             [
              0.3333333333333333,
              "#9c179e"
             ],
             [
              0.4444444444444444,
              "#bd3786"
             ],
             [
              0.5555555555555556,
              "#d8576b"
             ],
             [
              0.6666666666666666,
              "#ed7953"
             ],
             [
              0.7777777777777778,
              "#fb9f3a"
             ],
             [
              0.8888888888888888,
              "#fdca26"
             ],
             [
              1,
              "#f0f921"
             ]
            ],
            "type": "surface"
           }
          ],
          "table": [
           {
            "cells": {
             "fill": {
              "color": "#EBF0F8"
             },
             "line": {
              "color": "white"
             }
            },
            "header": {
             "fill": {
              "color": "#C8D4E3"
             },
             "line": {
              "color": "white"
             }
            },
            "type": "table"
           }
          ]
         },
         "layout": {
          "annotationdefaults": {
           "arrowcolor": "#2a3f5f",
           "arrowhead": 0,
           "arrowwidth": 1
          },
          "autotypenumbers": "strict",
          "coloraxis": {
           "colorbar": {
            "outlinewidth": 0,
            "ticks": ""
           }
          },
          "colorscale": {
           "diverging": [
            [
             0,
             "#8e0152"
            ],
            [
             0.1,
             "#c51b7d"
            ],
            [
             0.2,
             "#de77ae"
            ],
            [
             0.3,
             "#f1b6da"
            ],
            [
             0.4,
             "#fde0ef"
            ],
            [
             0.5,
             "#f7f7f7"
            ],
            [
             0.6,
             "#e6f5d0"
            ],
            [
             0.7,
             "#b8e186"
            ],
            [
             0.8,
             "#7fbc41"
            ],
            [
             0.9,
             "#4d9221"
            ],
            [
             1,
             "#276419"
            ]
           ],
           "sequential": [
            [
             0,
             "#0d0887"
            ],
            [
             0.1111111111111111,
             "#46039f"
            ],
            [
             0.2222222222222222,
             "#7201a8"
            ],
            [
             0.3333333333333333,
             "#9c179e"
            ],
            [
             0.4444444444444444,
             "#bd3786"
            ],
            [
             0.5555555555555556,
             "#d8576b"
            ],
            [
             0.6666666666666666,
             "#ed7953"
            ],
            [
             0.7777777777777778,
             "#fb9f3a"
            ],
            [
             0.8888888888888888,
             "#fdca26"
            ],
            [
             1,
             "#f0f921"
            ]
           ],
           "sequentialminus": [
            [
             0,
             "#0d0887"
            ],
            [
             0.1111111111111111,
             "#46039f"
            ],
            [
             0.2222222222222222,
             "#7201a8"
            ],
            [
             0.3333333333333333,
             "#9c179e"
            ],
            [
             0.4444444444444444,
             "#bd3786"
            ],
            [
             0.5555555555555556,
             "#d8576b"
            ],
            [
             0.6666666666666666,
             "#ed7953"
            ],
            [
             0.7777777777777778,
             "#fb9f3a"
            ],
            [
             0.8888888888888888,
             "#fdca26"
            ],
            [
             1,
             "#f0f921"
            ]
           ]
          },
          "colorway": [
           "#636efa",
           "#EF553B",
           "#00cc96",
           "#ab63fa",
           "#FFA15A",
           "#19d3f3",
           "#FF6692",
           "#B6E880",
           "#FF97FF",
           "#FECB52"
          ],
          "font": {
           "color": "#2a3f5f"
          },
          "geo": {
           "bgcolor": "white",
           "lakecolor": "white",
           "landcolor": "#E5ECF6",
           "showlakes": true,
           "showland": true,
           "subunitcolor": "white"
          },
          "hoverlabel": {
           "align": "left"
          },
          "hovermode": "closest",
          "mapbox": {
           "style": "light"
          },
          "paper_bgcolor": "white",
          "plot_bgcolor": "#E5ECF6",
          "polar": {
           "angularaxis": {
            "gridcolor": "white",
            "linecolor": "white",
            "ticks": ""
           },
           "bgcolor": "#E5ECF6",
           "radialaxis": {
            "gridcolor": "white",
            "linecolor": "white",
            "ticks": ""
           }
          },
          "scene": {
           "xaxis": {
            "backgroundcolor": "#E5ECF6",
            "gridcolor": "white",
            "gridwidth": 2,
            "linecolor": "white",
            "showbackground": true,
            "ticks": "",
            "zerolinecolor": "white"
           },
           "yaxis": {
            "backgroundcolor": "#E5ECF6",
            "gridcolor": "white",
            "gridwidth": 2,
            "linecolor": "white",
            "showbackground": true,
            "ticks": "",
            "zerolinecolor": "white"
           },
           "zaxis": {
            "backgroundcolor": "#E5ECF6",
            "gridcolor": "white",
            "gridwidth": 2,
            "linecolor": "white",
            "showbackground": true,
            "ticks": "",
            "zerolinecolor": "white"
           }
          },
          "shapedefaults": {
           "line": {
            "color": "#2a3f5f"
           }
          },
          "ternary": {
           "aaxis": {
            "gridcolor": "white",
            "linecolor": "white",
            "ticks": ""
           },
           "baxis": {
            "gridcolor": "white",
            "linecolor": "white",
            "ticks": ""
           },
           "bgcolor": "#E5ECF6",
           "caxis": {
            "gridcolor": "white",
            "linecolor": "white",
            "ticks": ""
           }
          },
          "title": {
           "x": 0.05
          },
          "xaxis": {
           "automargin": true,
           "gridcolor": "white",
           "linecolor": "white",
           "ticks": "",
           "title": {
            "standoff": 15
           },
           "zerolinecolor": "white",
           "zerolinewidth": 2
          },
          "yaxis": {
           "automargin": true,
           "gridcolor": "white",
           "linecolor": "white",
           "ticks": "",
           "title": {
            "standoff": 15
           },
           "zerolinecolor": "white",
           "zerolinewidth": 2
          }
         }
        },
        "xaxis": {
         "anchor": "y",
         "domain": [
          0,
          1
         ],
         "tickangle": -90,
         "title": {
          "text": "Post Title"
         }
        },
        "yaxis": {
         "anchor": "x",
         "domain": [
          0,
          1
         ],
         "title": {
          "text": "Upvotes"
         }
        }
       }
      },
      "image/png": "[encoded data removed]"
     },
     "metadata": {},
     "output_type": "display_data"
    }
   ],
   "source": [
    "import plotly.express as px\n",
    "import math\n",
    "\n",
    "df_plot = X_clean[['category_name', 'upvotes']].head(100)\n",
    "df_plot['upvotes'] = df_plot['upvotes'].apply(lambda x: math.log(x+1))\n",
    "\n",
    "df_sorted = df_plot.sort_values(by='upvotes', ascending=False)\n",
    "\n",
    "# 畫圖\n",
    "fig = px.bar(df_sorted,\n",
    "             x='category_name',\n",
    "             y='upvotes',\n",
    "             labels={'title': 'Post Title', 'upvotes': 'Upvotes'},\n",
    "             height=600)\n",
    "\n",
    "fig.update_layout(\n",
    "    xaxis_tickangle=-90,\n",
    "    xaxis_title=\"Post Title\",\n",
    "    yaxis_title=\"Upvotes\",\n",
    "    showlegend=False,\n",
    "    margin=dict(b=170) \n",
    ")\n",
    "\n"
   ]
  },
  {
   "cell_type": "markdown",
   "metadata": {},
   "source": [
    "### 散佈圖 - 透過sentiment 情緒欄位和index 畫出分布\n",
    "sentiment = 1 代表正面  \n",
    "sentiment = 0 代表中性  \n",
    "sentiment = -1  代表負面  \n",
    "點的大小由 polarity 欄位(文本的情感極性-> 情緒強度）決定，值越大點越大  \n",
    "四種類別的資料對應不同顏色"
   ]
  },
  {
   "cell_type": "code",
   "execution_count": 100,
   "metadata": {},
   "outputs": [
    {
     "name": "stdout",
     "output_type": "stream",
     "text": [
      "['wallstreetbets' 'StockMarket' 'stockstobuytoday' 'stocks']\n"
     ]
    }
   ],
   "source": [
    "print(categories)"
   ]
  },
  {
   "cell_type": "code",
   "execution_count": 36,
   "metadata": {},
   "outputs": [
    {
     "data": {
      "text/plain": [
       "Text(0.5, 1.0, 'Sentiment vs Index (size by Polarity, custom color)')"
      ]
     },
     "execution_count": 36,
     "metadata": {},
     "output_type": "execute_result"
    },
    {
     "data": {
      "image/png": "[encoded data removed]",
      "text/plain": [
       "<Figure size 1200x600 with 1 Axes>"
      ]
     },
     "metadata": {},
     "output_type": "display_data"
    }
   ],
   "source": [
    "import matplotlib.pyplot as plt\n",
    "df_plot = X_clean[['category', 'polarity', 'sentiment', 'upvotes']].head(100)\n",
    "\n",
    "# 將 category 轉成 Categorical\n",
    "df_plot['category'] = pd.Categorical(df_plot['category'])\n",
    "\n",
    "# 自訂顏色\n",
    "custom_colors = {0: '#4da6ff', 1: '#ff6699', 2: 'yellow',3: '#1affc6'}\n",
    "color_codes = df_plot['category'].cat.codes.map(lambda x: custom_colors.get(x % 4)) \n",
    "\n",
    "# 點大小，用 polarity 的絕對值 + 0.1 放大\n",
    "size = (df_plot['polarity'].abs() + 0.1) * 200\n",
    "\n",
    "# y 軸索引\n",
    "y = np.arange(len(df_plot))\n",
    "\n",
    "plt.figure(figsize=(12,6))\n",
    "plt.scatter(df_plot['sentiment'], y,\n",
    "            s=size,\n",
    "            c=color_codes,\n",
    "            alpha=0.8,\n",
    "            edgecolors='grey',\n",
    "            linewidth=0.5)\n",
    "\n",
    "plt.xlabel('Sentiment (-1: Negative, 0: Neutral, 1: Positive)')\n",
    "plt.ylabel('Index')\n",
    "plt.title('Sentiment vs Index (size by Polarity, custom color)')\n"
   ]
  },
  {
   "cell_type": "code",
   "execution_count": null,
   "metadata": {},
   "outputs": [],
   "source": []
  },
  {
   "cell_type": "markdown",
   "metadata": {},
   "source": [
    "# Phase 2"
   ]
  },
  {
   "cell_type": "markdown",
   "metadata": {},
   "source": [
    "### **6.先建立TF-IDF 特徵**"
   ]
  },
  {
   "cell_type": "code",
   "execution_count": 101,
   "metadata": {},
   "outputs": [
    {
     "name": "stdout",
     "output_type": "stream",
     "text": [
      "\n",
      "類別：wallstreetbets\n",
      "Top 10 最高 TF-IDF 詞彙：\n",
      "emote       0.024539\n",
      "img         0.024539\n",
      "t5_2th52    0.024539\n",
      "retarded    0.021009\n",
      "good        0.019854\n",
      "just        0.019612\n",
      "like        0.019366\n",
      "puts        0.018147\n",
      "market      0.016279\n",
      "target      0.016213\n",
      "dtype: float64\n",
      "\n",
      "Bottom 10 最低 TF-IDF 詞彙：\n",
      "advertisements    0.000838\n",
      "team              0.000838\n",
      "update            0.000838\n",
      "anduril           0.000838\n",
      "aka               0.000838\n",
      "mgmt              0.000838\n",
      "ip                0.000838\n",
      "ipo               0.000838\n",
      "ndaa              0.000838\n",
      "stuff             0.000838\n",
      "dtype: float64\n",
      "\n",
      "已建立的類別： ['wallstreetbets']\n",
      "\n",
      "類別：StockMarket\n",
      "Top 10 最高 TF-IDF 詞彙：\n",
      "trump     0.027540\n",
      "just      0.022382\n",
      "china     0.020204\n",
      "doing     0.013613\n",
      "say       0.012499\n",
      "make      0.012349\n",
      "money     0.011540\n",
      "going     0.011506\n",
      "itâ       0.011414\n",
      "allies    0.010852\n",
      "dtype: float64\n",
      "\n",
      "Bottom 10 最低 TF-IDF 詞彙：\n",
      "1974         0.000239\n",
      "1999         0.000239\n",
      "voted        0.000239\n",
      "1973         0.000239\n",
      "extention    0.000239\n",
      "electing     0.000239\n",
      "expecting    0.000239\n",
      "exact        0.000239\n",
      "ending       0.000239\n",
      "agnew        0.000239\n",
      "dtype: float64\n",
      "\n",
      "已建立的類別： ['wallstreetbets', 'StockMarket']\n",
      "\n",
      "類別：stockstobuytoday\n",
      "Top 10 最高 TF-IDF 詞彙：\n",
      "x200b           0.037188\n",
      "market          0.028290\n",
      "stockbuyvest    0.027030\n",
      "com             0.027030\n",
      "stock           0.025015\n",
      "daily           0.024963\n",
      "updated         0.021106\n",
      "today           0.017973\n",
      "weekly          0.015002\n",
      "gappers         0.014878\n",
      "dtype: float64\n",
      "\n",
      "Bottom 10 最低 TF-IDF 詞彙：\n",
      "acquires      0.000205\n",
      "valuable      0.000205\n",
      "stumbled      0.000205\n",
      "showcase      0.000205\n",
      "computes      0.000205\n",
      "exciting      0.000205\n",
      "modern        0.000205\n",
      "operations    0.000205\n",
      "fascinated    0.000205\n",
      "help          0.000205\n",
      "dtype: float64\n",
      "\n",
      "已建立的類別： ['wallstreetbets', 'StockMarket', 'stockstobuytoday']\n",
      "\n",
      "類別：stocks\n",
      "Top 10 最高 TF-IDF 詞彙：\n",
      "silver    0.023896\n",
      "trump     0.021318\n",
      "market    0.019153\n",
      "like      0.019005\n",
      "people    0.017753\n",
      "just      0.015491\n",
      "think     0.015247\n",
      "china     0.013567\n",
      "going     0.012716\n",
      "itâ       0.012708\n",
      "dtype: float64\n",
      "\n",
      "Bottom 10 最低 TF-IDF 詞彙：\n",
      "reasoning         0.00024\n",
      "receiving         0.00024\n",
      "maintain          0.00024\n",
      "seeking           0.00024\n",
      "2045              0.00024\n",
      "98th              0.00024\n",
      "recommendation    0.00024\n",
      "albeit            0.00024\n",
      "consulted         0.00024\n",
      "weak              0.00024\n",
      "dtype: float64\n",
      "\n",
      "已建立的類別： ['wallstreetbets', 'StockMarket', 'stockstobuytoday', 'stocks']\n"
     ]
    }
   ],
   "source": [
    "import pandas as pd\n",
    "from sklearn.feature_extraction.text import TfidfVectorizer\n",
    "\n",
    "# 以 subreddit 作為類別欄位\n",
    "categories = df['subreddit'].unique()\n",
    "\n",
    "# 初始化 TF-IDF Vectorizer\n",
    "tfidf_vect = TfidfVectorizer(stop_words='english')\n",
    "\n",
    "# 建立空字典，用來存每個類別的 TF-IDF 矩陣\n",
    "filt_term_document_dfs = {}\n",
    "\n",
    "for category in categories:\n",
    "    print(f\"\\n類別：{category}\")\n",
    "    \n",
    "    # 取出該類別的所有文字\n",
    "    texts = df[df['subreddit'] == category]['text'].astype(str)\n",
    "    \n",
    "    # 建立 TF-IDF 矩陣\n",
    "    X_tfidf = tfidf_vect.fit_transform(texts)\n",
    "    words = tfidf_vect.get_feature_names_out()\n",
    "    \n",
    "    # 建立 DataFrame 並存入字典\n",
    "    tfidf_df = pd.DataFrame(X_tfidf.toarray(), columns=words)\n",
    "    filt_term_document_dfs[category] = tfidf_df\n",
    "    \n",
    "    # 顯示平均 TF-IDF 權重最高與最低的詞\n",
    "    mean_tfidf = tfidf_df.mean(axis=0)\n",
    "    top_words = mean_tfidf.sort_values(ascending=False).head(10)\n",
    "    bottom_words = mean_tfidf.sort_values(ascending=True).head(10)\n",
    "    \n",
    "    print(\"Top 10 最高 TF-IDF 詞彙：\")\n",
    "    print(top_words)\n",
    "    print(\"\\nBottom 10 最低 TF-IDF 詞彙：\")\n",
    "    print(bottom_words)\n",
    "    print(\"\\n已建立的類別：\", list(filt_term_document_dfs.keys()))\n"
   ]
  },
  {
   "cell_type": "code",
   "execution_count": 136,
   "metadata": {},
   "outputs": [
    {
     "name": "stdout",
     "output_type": "stream",
     "text": [
      "Filtered Term-Document Frequency DataFrame for Category wallstreetbets:\n"
     ]
    },
    {
     "data": {
      "text/html": [
       "<div>\n",
       "<style scoped>\n",
       "    .dataframe tbody tr th:only-of-type {\n",
       "        vertical-align: middle;\n",
       "    }\n",
       "\n",
       "    .dataframe tbody tr th {\n",
       "        vertical-align: top;\n",
       "    }\n",
       "\n",
       "    .dataframe thead th {\n",
       "        text-align: right;\n",
       "    }\n",
       "</style>\n",
       "<table border=\"1\" class=\"dataframe\">\n",
       "  <thead>\n",
       "    <tr style=\"text-align: right;\">\n",
       "      <th></th>\n",
       "      <th>10</th>\n",
       "      <th>100</th>\n",
       "      <th>1000</th>\n",
       "      <th>10k</th>\n",
       "      <th>12</th>\n",
       "      <th>17th</th>\n",
       "      <th>186</th>\n",
       "      <th>18630</th>\n",
       "      <th>1934</th>\n",
       "      <th>1981</th>\n",
       "      <th>...</th>\n",
       "      <th>ws</th>\n",
       "      <th>wsb</th>\n",
       "      <th>wutang</th>\n",
       "      <th>xi</th>\n",
       "      <th>year</th>\n",
       "      <th>years</th>\n",
       "      <th>yesterday</th>\n",
       "      <th>yippee</th>\n",
       "      <th>youâ</th>\n",
       "      <th>zero</th>\n",
       "    </tr>\n",
       "  </thead>\n",
       "  <tbody>\n",
       "    <tr>\n",
       "      <th>0</th>\n",
       "      <td>0.0</td>\n",
       "      <td>0.0</td>\n",
       "      <td>0.0</td>\n",
       "      <td>0.0</td>\n",
       "      <td>0.0</td>\n",
       "      <td>0.0</td>\n",
       "      <td>0.0</td>\n",
       "      <td>0.0</td>\n",
       "      <td>0.0</td>\n",
       "      <td>0.0</td>\n",
       "      <td>...</td>\n",
       "      <td>0.0</td>\n",
       "      <td>0.000000</td>\n",
       "      <td>0.0</td>\n",
       "      <td>0.0</td>\n",
       "      <td>0.0</td>\n",
       "      <td>0.0</td>\n",
       "      <td>0.0</td>\n",
       "      <td>0.0</td>\n",
       "      <td>0.0</td>\n",
       "      <td>0.0</td>\n",
       "    </tr>\n",
       "    <tr>\n",
       "      <th>1</th>\n",
       "      <td>0.0</td>\n",
       "      <td>0.0</td>\n",
       "      <td>0.0</td>\n",
       "      <td>0.0</td>\n",
       "      <td>0.0</td>\n",
       "      <td>0.0</td>\n",
       "      <td>0.0</td>\n",
       "      <td>0.0</td>\n",
       "      <td>0.0</td>\n",
       "      <td>0.0</td>\n",
       "      <td>...</td>\n",
       "      <td>0.0</td>\n",
       "      <td>0.000000</td>\n",
       "      <td>0.0</td>\n",
       "      <td>0.0</td>\n",
       "      <td>0.0</td>\n",
       "      <td>0.0</td>\n",
       "      <td>0.0</td>\n",
       "      <td>0.0</td>\n",
       "      <td>0.0</td>\n",
       "      <td>0.0</td>\n",
       "    </tr>\n",
       "    <tr>\n",
       "      <th>2</th>\n",
       "      <td>0.0</td>\n",
       "      <td>0.0</td>\n",
       "      <td>0.0</td>\n",
       "      <td>0.0</td>\n",
       "      <td>0.0</td>\n",
       "      <td>0.0</td>\n",
       "      <td>0.0</td>\n",
       "      <td>0.0</td>\n",
       "      <td>0.0</td>\n",
       "      <td>0.0</td>\n",
       "      <td>...</td>\n",
       "      <td>0.0</td>\n",
       "      <td>0.000000</td>\n",
       "      <td>0.0</td>\n",
       "      <td>0.0</td>\n",
       "      <td>0.0</td>\n",
       "      <td>0.0</td>\n",
       "      <td>0.0</td>\n",
       "      <td>0.0</td>\n",
       "      <td>0.0</td>\n",
       "      <td>0.0</td>\n",
       "    </tr>\n",
       "    <tr>\n",
       "      <th>3</th>\n",
       "      <td>0.0</td>\n",
       "      <td>0.0</td>\n",
       "      <td>0.0</td>\n",
       "      <td>0.0</td>\n",
       "      <td>0.0</td>\n",
       "      <td>0.0</td>\n",
       "      <td>0.0</td>\n",
       "      <td>0.0</td>\n",
       "      <td>0.0</td>\n",
       "      <td>0.0</td>\n",
       "      <td>...</td>\n",
       "      <td>0.0</td>\n",
       "      <td>0.000000</td>\n",
       "      <td>0.0</td>\n",
       "      <td>0.0</td>\n",
       "      <td>0.0</td>\n",
       "      <td>0.0</td>\n",
       "      <td>0.0</td>\n",
       "      <td>0.0</td>\n",
       "      <td>0.0</td>\n",
       "      <td>0.0</td>\n",
       "    </tr>\n",
       "    <tr>\n",
       "      <th>4</th>\n",
       "      <td>0.0</td>\n",
       "      <td>0.0</td>\n",
       "      <td>0.0</td>\n",
       "      <td>0.0</td>\n",
       "      <td>0.0</td>\n",
       "      <td>0.0</td>\n",
       "      <td>0.0</td>\n",
       "      <td>0.0</td>\n",
       "      <td>0.0</td>\n",
       "      <td>0.0</td>\n",
       "      <td>...</td>\n",
       "      <td>0.0</td>\n",
       "      <td>0.325865</td>\n",
       "      <td>0.0</td>\n",
       "      <td>0.0</td>\n",
       "      <td>0.0</td>\n",
       "      <td>0.0</td>\n",
       "      <td>0.0</td>\n",
       "      <td>0.0</td>\n",
       "      <td>0.0</td>\n",
       "      <td>0.0</td>\n",
       "    </tr>\n",
       "    <tr>\n",
       "      <th>...</th>\n",
       "      <td>...</td>\n",
       "      <td>...</td>\n",
       "      <td>...</td>\n",
       "      <td>...</td>\n",
       "      <td>...</td>\n",
       "      <td>...</td>\n",
       "      <td>...</td>\n",
       "      <td>...</td>\n",
       "      <td>...</td>\n",
       "      <td>...</td>\n",
       "      <td>...</td>\n",
       "      <td>...</td>\n",
       "      <td>...</td>\n",
       "      <td>...</td>\n",
       "      <td>...</td>\n",
       "      <td>...</td>\n",
       "      <td>...</td>\n",
       "      <td>...</td>\n",
       "      <td>...</td>\n",
       "      <td>...</td>\n",
       "      <td>...</td>\n",
       "    </tr>\n",
       "    <tr>\n",
       "      <th>144</th>\n",
       "      <td>0.0</td>\n",
       "      <td>0.0</td>\n",
       "      <td>0.0</td>\n",
       "      <td>0.0</td>\n",
       "      <td>0.0</td>\n",
       "      <td>0.0</td>\n",
       "      <td>0.0</td>\n",
       "      <td>0.0</td>\n",
       "      <td>0.0</td>\n",
       "      <td>0.0</td>\n",
       "      <td>...</td>\n",
       "      <td>0.0</td>\n",
       "      <td>0.000000</td>\n",
       "      <td>0.0</td>\n",
       "      <td>0.0</td>\n",
       "      <td>0.0</td>\n",
       "      <td>0.0</td>\n",
       "      <td>0.0</td>\n",
       "      <td>0.0</td>\n",
       "      <td>0.0</td>\n",
       "      <td>0.0</td>\n",
       "    </tr>\n",
       "    <tr>\n",
       "      <th>145</th>\n",
       "      <td>0.0</td>\n",
       "      <td>0.0</td>\n",
       "      <td>0.0</td>\n",
       "      <td>0.0</td>\n",
       "      <td>0.0</td>\n",
       "      <td>0.0</td>\n",
       "      <td>0.0</td>\n",
       "      <td>0.0</td>\n",
       "      <td>0.0</td>\n",
       "      <td>0.0</td>\n",
       "      <td>...</td>\n",
       "      <td>0.0</td>\n",
       "      <td>0.000000</td>\n",
       "      <td>0.0</td>\n",
       "      <td>0.0</td>\n",
       "      <td>0.0</td>\n",
       "      <td>0.0</td>\n",
       "      <td>0.0</td>\n",
       "      <td>0.0</td>\n",
       "      <td>0.0</td>\n",
       "      <td>0.0</td>\n",
       "    </tr>\n",
       "    <tr>\n",
       "      <th>146</th>\n",
       "      <td>0.0</td>\n",
       "      <td>0.0</td>\n",
       "      <td>0.0</td>\n",
       "      <td>0.0</td>\n",
       "      <td>0.0</td>\n",
       "      <td>0.0</td>\n",
       "      <td>0.0</td>\n",
       "      <td>0.0</td>\n",
       "      <td>0.0</td>\n",
       "      <td>0.0</td>\n",
       "      <td>...</td>\n",
       "      <td>0.0</td>\n",
       "      <td>0.000000</td>\n",
       "      <td>0.0</td>\n",
       "      <td>0.0</td>\n",
       "      <td>0.0</td>\n",
       "      <td>0.0</td>\n",
       "      <td>0.0</td>\n",
       "      <td>0.0</td>\n",
       "      <td>0.0</td>\n",
       "      <td>0.0</td>\n",
       "    </tr>\n",
       "    <tr>\n",
       "      <th>147</th>\n",
       "      <td>0.0</td>\n",
       "      <td>0.0</td>\n",
       "      <td>0.0</td>\n",
       "      <td>0.0</td>\n",
       "      <td>0.0</td>\n",
       "      <td>0.0</td>\n",
       "      <td>0.0</td>\n",
       "      <td>0.0</td>\n",
       "      <td>0.0</td>\n",
       "      <td>0.0</td>\n",
       "      <td>...</td>\n",
       "      <td>0.0</td>\n",
       "      <td>0.000000</td>\n",
       "      <td>0.0</td>\n",
       "      <td>0.0</td>\n",
       "      <td>0.0</td>\n",
       "      <td>0.0</td>\n",
       "      <td>0.0</td>\n",
       "      <td>0.0</td>\n",
       "      <td>0.0</td>\n",
       "      <td>0.0</td>\n",
       "    </tr>\n",
       "    <tr>\n",
       "      <th>148</th>\n",
       "      <td>0.0</td>\n",
       "      <td>0.0</td>\n",
       "      <td>0.0</td>\n",
       "      <td>0.0</td>\n",
       "      <td>0.0</td>\n",
       "      <td>0.0</td>\n",
       "      <td>0.0</td>\n",
       "      <td>0.0</td>\n",
       "      <td>0.0</td>\n",
       "      <td>0.0</td>\n",
       "      <td>...</td>\n",
       "      <td>0.0</td>\n",
       "      <td>0.000000</td>\n",
       "      <td>0.0</td>\n",
       "      <td>0.0</td>\n",
       "      <td>0.0</td>\n",
       "      <td>0.0</td>\n",
       "      <td>0.0</td>\n",
       "      <td>0.0</td>\n",
       "      <td>0.0</td>\n",
       "      <td>0.0</td>\n",
       "    </tr>\n",
       "  </tbody>\n",
       "</table>\n",
       "<p>149 rows × 822 columns</p>\n",
       "</div>"
      ],
      "text/plain": [
       "      10  100  1000  10k   12  17th  186  18630  1934  1981  ...   ws  \\\n",
       "0    0.0  0.0   0.0  0.0  0.0   0.0  0.0    0.0   0.0   0.0  ...  0.0   \n",
       "1    0.0  0.0   0.0  0.0  0.0   0.0  0.0    0.0   0.0   0.0  ...  0.0   \n",
       "2    0.0  0.0   0.0  0.0  0.0   0.0  0.0    0.0   0.0   0.0  ...  0.0   \n",
       "3    0.0  0.0   0.0  0.0  0.0   0.0  0.0    0.0   0.0   0.0  ...  0.0   \n",
       "4    0.0  0.0   0.0  0.0  0.0   0.0  0.0    0.0   0.0   0.0  ...  0.0   \n",
       "..   ...  ...   ...  ...  ...   ...  ...    ...   ...   ...  ...  ...   \n",
       "144  0.0  0.0   0.0  0.0  0.0   0.0  0.0    0.0   0.0   0.0  ...  0.0   \n",
       "145  0.0  0.0   0.0  0.0  0.0   0.0  0.0    0.0   0.0   0.0  ...  0.0   \n",
       "146  0.0  0.0   0.0  0.0  0.0   0.0  0.0    0.0   0.0   0.0  ...  0.0   \n",
       "147  0.0  0.0   0.0  0.0  0.0   0.0  0.0    0.0   0.0   0.0  ...  0.0   \n",
       "148  0.0  0.0   0.0  0.0  0.0   0.0  0.0    0.0   0.0   0.0  ...  0.0   \n",
       "\n",
       "          wsb  wutang   xi  year  years  yesterday  yippee  youâ  zero  \n",
       "0    0.000000     0.0  0.0   0.0    0.0        0.0     0.0   0.0   0.0  \n",
       "1    0.000000     0.0  0.0   0.0    0.0        0.0     0.0   0.0   0.0  \n",
       "2    0.000000     0.0  0.0   0.0    0.0        0.0     0.0   0.0   0.0  \n",
       "3    0.000000     0.0  0.0   0.0    0.0        0.0     0.0   0.0   0.0  \n",
       "4    0.325865     0.0  0.0   0.0    0.0        0.0     0.0   0.0   0.0  \n",
       "..        ...     ...  ...   ...    ...        ...     ...   ...   ...  \n",
       "144  0.000000     0.0  0.0   0.0    0.0        0.0     0.0   0.0   0.0  \n",
       "145  0.000000     0.0  0.0   0.0    0.0        0.0     0.0   0.0   0.0  \n",
       "146  0.000000     0.0  0.0   0.0    0.0        0.0     0.0   0.0   0.0  \n",
       "147  0.000000     0.0  0.0   0.0    0.0        0.0     0.0   0.0   0.0  \n",
       "148  0.000000     0.0  0.0   0.0    0.0        0.0     0.0   0.0   0.0  \n",
       "\n",
       "[149 rows x 822 columns]"
      ]
     },
     "execution_count": 136,
     "metadata": {},
     "output_type": "execute_result"
    }
   ],
   "source": [
    "category_number=0 #You can change it from 0 to 3\n",
    "print(f\"Filtered Term-Document Frequency DataFrame for Category {categories[category_number]}:\")\n",
    "filt_term_document_dfs[categories[category_number]]"
   ]
  },
  {
   "cell_type": "markdown",
   "metadata": {},
   "source": [
    "### **6.1 比較類別-設定的百分比閾值過濾的單字**"
   ]
  },
  {
   "cell_type": "code",
   "execution_count": 137,
   "metadata": {},
   "outputs": [
    {
     "name": "stdout",
     "output_type": "stream",
     "text": [
      "\n",
      "=== 類別：wallstreetbets ===\n",
      "前 1%（最高頻）詞彙：\n",
      "puts        2.703935\n",
      "like        2.885544\n",
      "just        2.922216\n",
      "good        2.958212\n",
      "retarded    3.130410\n",
      "t5_2th52    3.656375\n",
      "emote       3.656375\n",
      "img         3.656375\n",
      "dtype: float64\n",
      "\n",
      "後 1%（最低頻）詞彙：\n",
      "advertisements    0.124813\n",
      "team              0.124813\n",
      "update            0.124813\n",
      "anduril           0.124813\n",
      "aka               0.124813\n",
      "mgmt              0.124813\n",
      "ip                0.124813\n",
      "ipo               0.124813\n",
      "dtype: float64\n",
      "\n",
      "\n",
      "=== 類別：StockMarket ===\n",
      "前 1%（最高頻）詞彙：\n",
      "bullshit    2.568225\n",
      "right       2.571445\n",
      "market      2.601771\n",
      "good        2.703630\n",
      "allies      2.713084\n",
      "itâ         2.853524\n",
      "going       2.876499\n",
      "money       2.885005\n",
      "make        3.087211\n",
      "say         3.124706\n",
      "doing       3.403236\n",
      "china       5.050904\n",
      "just        5.595524\n",
      "trump       6.885125\n",
      "dtype: float64\n",
      "\n",
      "後 1%（最低頻）詞彙：\n",
      "1974         0.059729\n",
      "1999         0.059729\n",
      "voted        0.059729\n",
      "1973         0.059729\n",
      "extention    0.059729\n",
      "electing     0.059729\n",
      "expecting    0.059729\n",
      "exact        0.059729\n",
      "ending       0.059729\n",
      "agnew        0.059729\n",
      "future       0.059729\n",
      "taxpayer     0.059729\n",
      "fleecing     0.059729\n",
      "typical      0.059729\n",
      "dtype: float64\n",
      "\n",
      "\n",
      "=== 類別：stockstobuytoday ===\n",
      "前 1%（最高頻）詞彙：\n",
      "good            2.446310\n",
      "futures         2.508699\n",
      "price           2.521126\n",
      "stocks          2.538530\n",
      "gappers         2.588727\n",
      "weekly          2.610287\n",
      "today           3.127334\n",
      "updated         3.672415\n",
      "daily           4.343576\n",
      "stock           4.352658\n",
      "com             4.703284\n",
      "stockbuyvest    4.703284\n",
      "market          4.922397\n",
      "x200b           6.470777\n",
      "dtype: float64\n",
      "\n",
      "後 1%（最低頻）詞彙：\n",
      "acquires       0.035629\n",
      "valuable       0.035629\n",
      "stumbled       0.035629\n",
      "showcase       0.035629\n",
      "computes       0.035629\n",
      "exciting       0.035629\n",
      "modern         0.035629\n",
      "operations     0.035629\n",
      "fascinated     0.035629\n",
      "help           0.035629\n",
      "highlighted    0.035629\n",
      "bullish        0.035629\n",
      "couldn         0.035629\n",
      "4500           0.052351\n",
      "dtype: float64\n",
      "\n",
      "\n",
      "=== 類別：stocks ===\n",
      "前 1%（最高頻）詞彙：\n",
      "doing      2.382172\n",
      "don        2.505002\n",
      "things     2.673939\n",
      "day        2.679897\n",
      "economy    2.681198\n",
      "buying     2.820700\n",
      "time       2.977293\n",
      "money      2.993005\n",
      "good       3.032435\n",
      "want       3.148551\n",
      "tariffs    3.410018\n",
      "itâ        3.481939\n",
      "going      3.484314\n",
      "china      3.717458\n",
      "think      4.177735\n",
      "just       4.244531\n",
      "people     4.864189\n",
      "like       5.207381\n",
      "market     5.247979\n",
      "trump      5.841120\n",
      "silver     6.547432\n",
      "dtype: float64\n",
      "\n",
      "後 1%（最低頻）詞彙：\n",
      "reasoning          0.065807\n",
      "receiving          0.065807\n",
      "maintain           0.065807\n",
      "seeking            0.065807\n",
      "2045               0.065807\n",
      "98th               0.065807\n",
      "recommendation     0.065807\n",
      "albeit             0.065807\n",
      "consulted          0.065807\n",
      "weak               0.065807\n",
      "prove              0.065807\n",
      "savings            0.065807\n",
      "stranger           0.065807\n",
      "counterargument    0.065807\n",
      "react              0.065807\n",
      "rationally         0.065807\n",
      "negatively         0.065807\n",
      "listening          0.065807\n",
      "proud              0.065807\n",
      "temporary          0.065807\n",
      "extreme            0.065807\n",
      "dtype: float64\n",
      "\n"
     ]
    }
   ],
   "source": [
    "category_number = 0  # 你可以改成 0~3 看不同類別\n",
    "\n",
    "def show_top_bottom_words(term_document_df, percent=0.01):\n",
    "    # 計算每個詞的總出現次數\n",
    "    word_sums = term_document_df.sum(axis=0)\n",
    "    \n",
    "    # 排序少->多\n",
    "    sorted_words = word_sums.sort_values()\n",
    "    \n",
    "    # 計算要取的數量\n",
    "    total_words = len(sorted_words)\n",
    "    n = int(percent * total_words)\n",
    "    \n",
    "    # 低次數\n",
    "    bottom_words = sorted_words.head(n)\n",
    "    # 高次數\n",
    "    top_words = sorted_words.tail(n)\n",
    "    \n",
    "    return top_words, bottom_words\n",
    "\n",
    "# 顯示每個類別的前 1% 和後 1%\n",
    "for category in categories:\n",
    "    print(f\"\\n=== 類別：{category} ===\")\n",
    "    top_words, bottom_words = show_top_bottom_words(filt_term_document_dfs[category])\n",
    "    print(f\"前 1%（最高頻）詞彙：\\n{top_words}\\n\")\n",
    "    print(f\"後 1%（最低頻）詞彙：\\n{bottom_words}\\n\")\n"
   ]
  },
  {
   "cell_type": "markdown",
   "metadata": {},
   "source": [
    "### **6.2 產生CSV(transactional database)**"
   ]
  },
  {
   "cell_type": "code",
   "execution_count": 145,
   "metadata": {},
   "outputs": [
    {
     "name": "stdout",
     "output_type": "stream",
     "text": [
      "已輸出: td_freq_db_wallstreetbets.csv\n",
      "已輸出: td_freq_db_StockMarket.csv\n",
      "已輸出: td_freq_db_stockstobuytoday.csv\n",
      "已輸出: td_freq_db_stocks.csv\n"
     ]
    }
   ],
   "source": [
    "import pandas as pd\n",
    "from PAMI.extras.convert.DF2DB import DF2DB\n",
    "\n",
    "# 將每個類別的 term-document matrix 轉成 transactional database 並輸出 CSV\n",
    "for category in filt_term_document_dfs:\n",
    "    # 將類別名稱中的 \".\" 改成 \"_\" 以避免檔名錯誤\n",
    "    category_safe = category.replace('.', '_')\n",
    "    \n",
    "    # 建立 DF2DB 物件\n",
    "    obj = DF2DB(filt_term_document_dfs[category])\n",
    "    \n",
    "    # 轉換成 transactional database 並輸出\n",
    "    output_file = f\"td_freq_db_{category_safe}.csv\"\n",
    "    obj.convert2TransactionalDatabase(output_file, '>', 0) #TF-IDF 要改用 > 0\n",
    "    \n",
    "    print(f\"已輸出: {output_file}\")\n"
   ]
  },
  {
   "cell_type": "markdown",
   "metadata": {},
   "source": [
    "### **6.2 FP-Growth 演算法**"
   ]
  },
  {
   "cell_type": "code",
   "execution_count": 146,
   "metadata": {},
   "outputs": [
    {
     "name": "stdout",
     "output_type": "stream",
     "text": [
      "Database size (total no of transactions) : 171\n",
      "Number of items : 1449\n",
      "Minimum Transaction Size : 1\n",
      "Average Transaction Size : 14.08187134502924\n",
      "Maximum Transaction Size : 199\n",
      "Standard Deviation Transaction Size : 24.414650692317764\n",
      "Variance in Transaction Sizes : 599.5814929480564\n",
      "Sparsity : 0.9902816622877645\n",
      "Database size (total no of transactions) : 274\n",
      "Number of items : 2176\n",
      "Minimum Transaction Size : 1\n",
      "Average Transaction Size : 14.722627737226277\n",
      "Maximum Transaction Size : 165\n",
      "Standard Deviation Transaction Size : 16.84806728373278\n",
      "Variance in Transaction Sizes : 284.89714178765274\n",
      "Sparsity : 0.9932340865178189\n",
      "Database size (total no of transactions) : 248\n",
      "Number of items : 1426\n",
      "Minimum Transaction Size : 1\n",
      "Average Transaction Size : 9.725806451612904\n",
      "Maximum Transaction Size : 128\n",
      "Standard Deviation Transaction Size : 11.150248593841955\n",
      "Variance in Transaction Sizes : 124.83139610813635\n",
      "Sparsity : 0.9931796588698367\n",
      "Database size (total no of transactions) : 146\n",
      "Number of items : 822\n",
      "Minimum Transaction Size : 1\n",
      "Average Transaction Size : 8.123287671232877\n",
      "Maximum Transaction Size : 60\n",
      "Standard Deviation Transaction Size : 8.2194977106801\n",
      "Variance in Transaction Sizes : 68.02607463391593\n",
      "Sparsity : 0.9901176549011765\n"
     ]
    }
   ],
   "source": [
    "from PAMI.extras.dbStats import TransactionalDatabase as tds\n",
    "def hold_csv(name = 'td_freq_db_StockMarket.csv'):\n",
    "    obj = tds.TransactionalDatabase(name)\n",
    "    obj.run() #執行統計分析\n",
    "    obj.printStats() #把統計輸出\n",
    "    #obj.plotGraphs()\n",
    "\n",
    "hold_csv('td_freq_db_stockstobuytoday.csv')\n",
    "hold_csv('td_freq_db_stocks.csv')\n",
    "hold_csv('td_freq_db_StockMarket.csv')\n",
    "hold_csv('td_freq_db_wallstreetbets.csv')"
   ]
  },
  {
   "cell_type": "markdown",
   "metadata": {},
   "source": [
    "### **6.3挖掘Patterns**"
   ]
  },
  {
   "cell_type": "code",
   "execution_count": 147,
   "metadata": {},
   "outputs": [
    {
     "name": "stdout",
     "output_type": "stream",
     "text": [
      "Frequent patterns were generated successfully using frequentPatternGrowth algorithm\n",
      " td_freq_db_StockMarket.csv: 找到 15 個頻繁項目集\n",
      "執行時間: 0.0020241737365722656 秒\n",
      "Frequent patterns were generated successfully using frequentPatternGrowth algorithm\n",
      " td_freq_db_stockstobuytoday.csv: 找到 18 個頻繁項目集\n",
      "執行時間: 0.002000093460083008 秒\n",
      "Frequent patterns were generated successfully using frequentPatternGrowth algorithm\n",
      " td_freq_db_stocks.csv: 找到 31 個頻繁項目集\n",
      "執行時間: 0.003968477249145508 秒\n",
      "Frequent patterns were generated successfully using frequentPatternGrowth algorithm\n",
      " td_freq_db_wallstreetbets.csv: 找到 9 個頻繁項目集\n",
      "執行時間: 0.0010061264038085938 秒\n"
     ]
    }
   ],
   "source": [
    "from PAMI.frequentPattern.basic import FPGrowth as alg\n",
    "import pandas as pd\n",
    "\n",
    "frequentPatternsDFs = {}\n",
    "\n",
    "# 要處理的檔案清單\n",
    "files = [\n",
    "    'td_freq_db_StockMarket.csv',\n",
    "    'td_freq_db_stockstobuytoday.csv',\n",
    "    'td_freq_db_stocks.csv',\n",
    "    'td_freq_db_wallstreetbets.csv'\n",
    "]\n",
    "\n",
    "def hold_FP_Growth(iFile, minSup):\n",
    "    # 執行 FP-Growth\n",
    "    obj = alg.FPGrowth(iFile=iFile, minSup=minSup)\n",
    "    obj.mine()\n",
    "    \n",
    "    df = obj.getPatternsAsDataFrame()\n",
    "    frequentPatternsDFs[iFile] = df\n",
    "    \n",
    "    print(f\" {iFile}: 找到 {len(df)} 個頻繁項目集\")\n",
    "    print(f\"執行時間: {obj.getRuntime()} 秒\")\n",
    "    return df\n",
    "\n",
    "for file in files:\n",
    "    hold_FP_Growth(file, minSup=10)\n",
    "\n"
   ]
  },
  {
   "cell_type": "markdown",
   "metadata": {},
   "source": [
    "## **6.4縮減維度**"
   ]
  },
  {
   "cell_type": "code",
   "execution_count": 148,
   "metadata": {},
   "outputs": [],
   "source": [
    "import pandas as pd\n",
    "from sklearn.feature_extraction.text import CountVectorizer\n",
    "\n",
    "# Convert 'text' column into term-document matrix using CountVectorizer\n",
    "count_vect = CountVectorizer()\n",
    "X_tdm = count_vect.fit_transform(X['text'])  # X['text'] contains your text data\n",
    "terms = count_vect.get_feature_names_out()  # Original terms in the vocabulary\n",
    "\n",
    "# Tokenize the sentences into sets of unique words\n",
    "X['tokenized_text'] = X['text'].str.split().apply(set)\n",
    "\n",
    "# Initialize the pattern matrix\n",
    "pattern_matrix = pd.DataFrame(0, index=X.index, columns=final_pattern_df['Patterns'])\n",
    "\n",
    "# Iterate over each pattern and check if all words in the pattern are present in the tokenized sentence\n",
    "for pattern in final_pattern_df['Patterns']:\n",
    "    pattern_words = set(pattern.split())  # Tokenize pattern into words\n",
    "    pattern_matrix[pattern] = X['tokenized_text'].apply(lambda x: 1 if pattern_words.issubset(x) else 0)\n",
    "\n",
    "# Convert the term-document matrix to a DataFrame for easy merging\n",
    "tdm_df = pd.DataFrame(X_tdm.toarray(), columns=terms, index=X.index)"
   ]
  },
  {
   "cell_type": "code",
   "execution_count": 149,
   "metadata": {},
   "outputs": [],
   "source": [
    "#Applying dimensionality reduction with only the document-term frequency data\n",
    "from sklearn.decomposition import PCA\n",
    "from sklearn.manifold import TSNE\n",
    "import umap\n",
    "import matplotlib.pyplot as plt\n",
    "\n",
    "#This might take a couple of minutes to execute\n",
    "# Apply PCA, t-SNE, and UMAP to the data\n",
    "X_pca_tdm = PCA(n_components=2).fit_transform(tdm_df.values)\n",
    "X_tsne_tdm = TSNE(n_components=2).fit_transform(tdm_df.values)\n",
    "X_umap_tdm = umap.UMAP(n_components=2).fit_transform(tdm_df.values)"
   ]
  },
  {
   "cell_type": "code",
   "execution_count": 150,
   "metadata": {},
   "outputs": [
    {
     "data": {
      "image/png": "[encoded data removed]",
      "text/plain": [
       "<Figure size 3000x1000 with 3 Axes>"
      ]
     },
     "metadata": {},
     "output_type": "display_data"
    }
   ],
   "source": [
    "# Plot the results in subplots\n",
    "col = ['coral', 'blue', 'black', 'orange']\n",
    "categories = X['category_name'].unique() \n",
    "\n",
    "fig, axes = plt.subplots(1, 3, figsize=(30, 10))  # Create 3 subplots for PCA, t-SNE, and UMAP\n",
    "fig.suptitle('PCA, t-SNE, and UMAP Comparison')\n",
    "\n",
    "# Define a function to create a scatter plot for each method\n",
    "def plot_scatter(ax, X_reduced, title):\n",
    "    for c, category in zip(col, categories):\n",
    "        xs = X_reduced[X['category_name'] == category].T[0]\n",
    "        ys = X_reduced[X['category_name'] == category].T[1]\n",
    "        ax.scatter(xs, ys, c=c, marker='o', label=category)\n",
    "    \n",
    "    ax.grid(color='gray', linestyle=':', linewidth=2, alpha=0.2)\n",
    "    ax.set_title(title)\n",
    "    ax.set_xlabel('X')\n",
    "    ax.set_ylabel('Y')\n",
    "    ax.legend(loc='upper right')\n",
    "\n",
    "# Create scatter plots for PCA, t-SNE, and UMAP\n",
    "plot_scatter(axes[0], X_pca_tdm, 'PCA')\n",
    "plot_scatter(axes[1], X_tsne_tdm, 't-SNE')\n",
    "plot_scatter(axes[2], X_umap_tdm, 'UMAP')\n",
    "\n",
    "plt.show()"
   ]
  },
  {
   "cell_type": "markdown",
   "metadata": {},
   "source": [
    "## **7. 二值化**"
   ]
  },
  {
   "cell_type": "code",
   "execution_count": 151,
   "metadata": {},
   "outputs": [
    {
     "data": {
      "text/html": [
       "<div>\n",
       "<style scoped>\n",
       "    .dataframe tbody tr th:only-of-type {\n",
       "        vertical-align: middle;\n",
       "    }\n",
       "\n",
       "    .dataframe tbody tr th {\n",
       "        vertical-align: top;\n",
       "    }\n",
       "\n",
       "    .dataframe thead th {\n",
       "        text-align: right;\n",
       "    }\n",
       "</style>\n",
       "<table border=\"1\" class=\"dataframe\">\n",
       "  <thead>\n",
       "    <tr style=\"text-align: right;\">\n",
       "      <th></th>\n",
       "      <th>text</th>\n",
       "      <th>category</th>\n",
       "      <th>category_name</th>\n",
       "      <th>title</th>\n",
       "      <th>upvotes</th>\n",
       "      <th>downvotes</th>\n",
       "      <th>subjectivity</th>\n",
       "      <th>polarity</th>\n",
       "      <th>sentiment</th>\n",
       "      <th>tokenized_text</th>\n",
       "      <th>bin_category_name</th>\n",
       "    </tr>\n",
       "  </thead>\n",
       "  <tbody>\n",
       "    <tr>\n",
       "      <th>0</th>\n",
       "      <td>Calls on retards</td>\n",
       "      <td>0</td>\n",
       "      <td>wallstreetbets</td>\n",
       "      <td>Retardation is on the menu boys! WSB is so back</td>\n",
       "      <td>0</td>\n",
       "      <td>0</td>\n",
       "      <td>1.00</td>\n",
       "      <td>-0.90</td>\n",
       "      <td>-1</td>\n",
       "      <td>{Calls, retards, on}</td>\n",
       "      <td>[0, 0, 0, 1]</td>\n",
       "    </tr>\n",
       "    <tr>\n",
       "      <th>1</th>\n",
       "      <td>Stunt as in like why did they even make a big ...</td>\n",
       "      <td>0</td>\n",
       "      <td>wallstreetbets</td>\n",
       "      <td>Retail giant TARGET has now declined for 10 co...</td>\n",
       "      <td>-15</td>\n",
       "      <td>0</td>\n",
       "      <td>0.18</td>\n",
       "      <td>0.08</td>\n",
       "      <td>1</td>\n",
       "      <td>{deal, make, ever., company, the, like, big, N...</td>\n",
       "      <td>[0, 0, 0, 1]</td>\n",
       "    </tr>\n",
       "    <tr>\n",
       "      <th>2</th>\n",
       "      <td>Seeing lots of red in the ticker.</td>\n",
       "      <td>1</td>\n",
       "      <td>StockMarket</td>\n",
       "      <td>How do you feel about a sitting president maki...</td>\n",
       "      <td>1</td>\n",
       "      <td>0</td>\n",
       "      <td>0.00</td>\n",
       "      <td>0.00</td>\n",
       "      <td>0</td>\n",
       "      <td>{of, in, the, Seeing, lots, red, ticker.}</td>\n",
       "      <td>[1, 0, 0, 0]</td>\n",
       "    </tr>\n",
       "  </tbody>\n",
       "</table>\n",
       "</div>"
      ],
      "text/plain": [
       "                                                text  category  \\\n",
       "0                                   Calls on retards         0   \n",
       "1  Stunt as in like why did they even make a big ...         0   \n",
       "2                  Seeing lots of red in the ticker.         1   \n",
       "\n",
       "    category_name                                              title  upvotes  \\\n",
       "0  wallstreetbets    Retardation is on the menu boys! WSB is so back        0   \n",
       "1  wallstreetbets  Retail giant TARGET has now declined for 10 co...      -15   \n",
       "2     StockMarket  How do you feel about a sitting president maki...        1   \n",
       "\n",
       "   downvotes  subjectivity  polarity  sentiment  \\\n",
       "0          0          1.00     -0.90         -1   \n",
       "1          0          0.18      0.08          1   \n",
       "2          0          0.00      0.00          0   \n",
       "\n",
       "                                      tokenized_text bin_category_name  \n",
       "0                               {Calls, retards, on}      [0, 0, 0, 1]  \n",
       "1  {deal, make, ever., company, the, like, big, N...      [0, 0, 0, 1]  \n",
       "2          {of, in, the, Seeing, lots, red, ticker.}      [1, 0, 0, 0]  "
      ]
     },
     "execution_count": 151,
     "metadata": {},
     "output_type": "execute_result"
    }
   ],
   "source": [
    "from sklearn.preprocessing import LabelBinarizer\n",
    "\n",
    "# 建立 LabelBinarizer\n",
    "mlb = LabelBinarizer()\n",
    "mlb.fit(X['category_name'])\n",
    "# 轉換成二值化向量\n",
    "X['bin_category_name'] = mlb.transform(X['category_name']).tolist()\n",
    "X[0:3]"
   ]
  },
  {
   "cell_type": "markdown",
   "metadata": {},
   "source": [
    "## **7.1 餘弦相似度**"
   ]
  },
  {
   "cell_type": "code",
   "execution_count": 152,
   "metadata": {},
   "outputs": [],
   "source": [
    "# We retrieve 3 sentences for a random record\n",
    "document_to_transform_1 = []\n",
    "random_record_1 = X.iloc[150]\n",
    "random_record_1 = random_record_1['text']\n",
    "document_to_transform_1.append(random_record_1)\n",
    "\n",
    "document_to_transform_2 = []\n",
    "random_record_2 = X.iloc[100]\n",
    "random_record_2 = random_record_2['text']\n",
    "document_to_transform_2.append(random_record_2)\n",
    "\n",
    "document_to_transform_3 = []\n",
    "random_record_3 = X.iloc[200]\n",
    "random_record_3 = random_record_3['text']\n",
    "document_to_transform_3.append(random_record_3)"
   ]
  },
  {
   "cell_type": "code",
   "execution_count": 153,
   "metadata": {},
   "outputs": [
    {
     "name": "stdout",
     "output_type": "stream",
     "text": [
      "Let's take a look at the count vectors:\n",
      "[[0 0 0 ... 0 0 0]]\n",
      "[[0 0 0 ... 0 0 0]]\n",
      "[[0 0 0 ... 0 0 0]]\n"
     ]
    }
   ],
   "source": [
    "from sklearn.preprocessing import binarize\n",
    "\n",
    "#將句子用 CountVectorizer 轉換成詞頻向量（稀疏矩陣）\n",
    "document_vector_count_1 = count_vect.transform(document_to_transform_1)\n",
    "document_vector_count_2 = count_vect.transform(document_to_transform_2)\n",
    "document_vector_count_3 = count_vect.transform(document_to_transform_3)\n",
    "\n",
    "# 二值化：將詞頻向量改為 0 / 1，方便計算存在/不存在\n",
    "document_vector_count_1_bin = binarize(document_vector_count_1)\n",
    "document_vector_count_2_bin = binarize(document_vector_count_2)\n",
    "document_vector_count_3_bin = binarize(document_vector_count_3)\n",
    "\n",
    "# print vectors\n",
    "print(\"Let's take a look at the count vectors:\")\n",
    "print(document_vector_count_1.todense())\n",
    "print(document_vector_count_2.todense())\n",
    "print(document_vector_count_3.todense())"
   ]
  },
  {
   "cell_type": "code",
   "execution_count": 154,
   "metadata": {},
   "outputs": [
    {
     "name": "stdout",
     "output_type": "stream",
     "text": [
      "Cosine Similarity using count bw 1 and 2: 0.000000\n",
      "Cosine Similarity using count bw 1 and 3: 0.000000\n",
      "Cosine Similarity using count bw 2 and 3: 0.133631\n",
      "Cosine Similarity using count bw 1 and 1: 1.000000\n",
      "Cosine Similarity using count bw 2 and 2: 1.000000\n",
      "Cosine Similarity using count bw 3 and 3: 1.000000\n"
     ]
    },
    {
     "name": "stderr",
     "output_type": "stream",
     "text": [
      "C:\\Users\\廖雨潔\\AppData\\Local\\Temp\\ipykernel_27584\\233093969.py:14: DeprecationWarning:\n",
      "\n",
      "Conversion of an array with ndim > 0 to a scalar is deprecated, and will error in future. Ensure you extract a single element from your array before performing this operation. (Deprecated NumPy 1.25.)\n",
      "\n",
      "C:\\Users\\廖雨潔\\AppData\\Local\\Temp\\ipykernel_27584\\233093969.py:15: DeprecationWarning:\n",
      "\n",
      "Conversion of an array with ndim > 0 to a scalar is deprecated, and will error in future. Ensure you extract a single element from your array before performing this operation. (Deprecated NumPy 1.25.)\n",
      "\n",
      "C:\\Users\\廖雨潔\\AppData\\Local\\Temp\\ipykernel_27584\\233093969.py:16: DeprecationWarning:\n",
      "\n",
      "Conversion of an array with ndim > 0 to a scalar is deprecated, and will error in future. Ensure you extract a single element from your array before performing this operation. (Deprecated NumPy 1.25.)\n",
      "\n",
      "C:\\Users\\廖雨潔\\AppData\\Local\\Temp\\ipykernel_27584\\233093969.py:18: DeprecationWarning:\n",
      "\n",
      "Conversion of an array with ndim > 0 to a scalar is deprecated, and will error in future. Ensure you extract a single element from your array before performing this operation. (Deprecated NumPy 1.25.)\n",
      "\n",
      "C:\\Users\\廖雨潔\\AppData\\Local\\Temp\\ipykernel_27584\\233093969.py:19: DeprecationWarning:\n",
      "\n",
      "Conversion of an array with ndim > 0 to a scalar is deprecated, and will error in future. Ensure you extract a single element from your array before performing this operation. (Deprecated NumPy 1.25.)\n",
      "\n",
      "C:\\Users\\廖雨潔\\AppData\\Local\\Temp\\ipykernel_27584\\233093969.py:20: DeprecationWarning:\n",
      "\n",
      "Conversion of an array with ndim > 0 to a scalar is deprecated, and will error in future. Ensure you extract a single element from your array before performing this operation. (Deprecated NumPy 1.25.)\n",
      "\n"
     ]
    }
   ],
   "source": [
    "from sklearn.metrics.pairwise import cosine_similarity\n",
    "\n",
    "# 計算三個句子兩兩之間的餘弦相似度\n",
    "cos_sim_count_1_2 = cosine_similarity(document_vector_count_1, document_vector_count_2, dense_output=True)\n",
    "cos_sim_count_1_3 = cosine_similarity(document_vector_count_1, document_vector_count_3, dense_output=True)\n",
    "cos_sim_count_2_3 = cosine_similarity(document_vector_count_2, document_vector_count_3, dense_output=True)\n",
    "\n",
    "# 計算自己與自己的相似度（理論上應該都是 1）\n",
    "cos_sim_count_1_1 = cosine_similarity(document_vector_count_1, document_vector_count_1, dense_output=True)\n",
    "cos_sim_count_2_2 = cosine_similarity(document_vector_count_2, document_vector_count_2, dense_output=True)\n",
    "cos_sim_count_3_3 = cosine_similarity(document_vector_count_3, document_vector_count_3, dense_output=True)\n",
    "\n",
    "# Print \n",
    "print(\"Cosine Similarity using count bw 1 and 2: %(x)f\" %{\"x\":cos_sim_count_1_2})\n",
    "print(\"Cosine Similarity using count bw 1 and 3: %(x)f\" %{\"x\":cos_sim_count_1_3})\n",
    "print(\"Cosine Similarity using count bw 2 and 3: %(x)f\" %{\"x\":cos_sim_count_2_3})\n",
    "\n",
    "print(\"Cosine Similarity using count bw 1 and 1: %(x)f\" %{\"x\":cos_sim_count_1_1})\n",
    "print(\"Cosine Similarity using count bw 2 and 2: %(x)f\" %{\"x\":cos_sim_count_2_2})\n",
    "print(\"Cosine Similarity using count bw 3 and 3: %(x)f\" %{\"x\":cos_sim_count_3_3})"
   ]
  },
  {
   "cell_type": "markdown",
   "metadata": {},
   "source": [
    "## **7.2 樸素貝葉斯 Naive Bayes**"
   ]
  },
  {
   "cell_type": "code",
   "execution_count": 155,
   "metadata": {},
   "outputs": [
    {
     "name": "stdout",
     "output_type": "stream",
     "text": [
      "Accuracy: 0.5450980392156862\n",
      "\n",
      "Classification Report:\n",
      "                   precision    recall  f1-score   support\n",
      "\n",
      "  wallstreetbets     0.7143    0.3191    0.4412        47\n",
      "     StockMarket     0.5357    0.6250    0.5769        72\n",
      "stockstobuytoday     0.7826    0.3673    0.5000        49\n",
      "          stocks     0.4803    0.7011    0.5701        87\n",
      "\n",
      "        accuracy                         0.5451       255\n",
      "       macro avg     0.6282    0.5032    0.5220       255\n",
      "    weighted avg     0.5972    0.5451    0.5348       255\n",
      "\n"
     ]
    }
   ],
   "source": [
    "import pandas as pd\n",
    "from sklearn.feature_extraction.text import CountVectorizer\n",
    "from sklearn.model_selection import train_test_split\n",
    "from sklearn.naive_bayes import MultinomialNB\n",
    "from sklearn.metrics import classification_report, accuracy_score\n",
    "\n",
    "#原始 TDM\n",
    "count_vect = CountVectorizer()\n",
    "tdm_df = count_vect.fit_transform(X['text'])  # X['text'] 為文章欄位\n",
    "terms = count_vect.get_feature_names_out()\n",
    "\n",
    "#使用前面利用PAMI 處理的 Pattern \n",
    "X['tokenized_text'] = X['text'].str.split().apply(set)  # 將文章切成單詞集合\n",
    "pattern_matrix = pd.DataFrame(0, index=X.index, columns=final_pattern_df['Patterns']) #初始化前面得到的 pattern_matrix\n",
    "\n",
    "for pattern in final_pattern_df['Patterns']:\n",
    "    pattern_words = set(pattern.split()) # 對每個模式檢查，每篇文章是否包含全部模式詞\n",
    "    pattern_matrix[pattern] = X['tokenized_text'].apply(lambda x: 1 if pattern_words.issubset(x) else 0) #包含 : 1，不包含 : 0\n",
    "\n",
    "# 合併 TDM 與 Pattern Matrix : 增強 TDM\n",
    "tdm_df_dense = pd.DataFrame(tdm_df.toarray(), columns=terms, index=X.index)\n",
    "augmented_df = pd.concat([tdm_df_dense, pattern_matrix], axis=1)\n",
    "\n",
    "X_train, X_test, y_train, y_test = train_test_split(augmented_df.values, X['category'], test_size=0.3, random_state=42)\n",
    "\n",
    "#建立 Naive Bayes 分類器\n",
    "nb_classifier = MultinomialNB()\n",
    "nb_classifier.fit(X_train, y_train)\n",
    "\n",
    "y_pred = nb_classifier.predict(X_test)\n",
    "\n",
    "#評估結果\n",
    "category_mapping = dict(X[['category', 'category_name']].drop_duplicates().values)\n",
    "target_names = [category_mapping[label] for label in sorted(category_mapping.keys())]\n",
    "\n",
    "print(\"Accuracy:\", accuracy_score(y_test, y_pred))\n",
    "print(\"\\nClassification Report:\\n\", classification_report(y_test, y_pred, target_names=target_names, digits=4))"
   ]
  },
  {
   "cell_type": "code",
   "execution_count": null,
   "metadata": {},
   "outputs": [],
   "source": []
  }
 ],
 "metadata": {
  "kernelspec": {
   "display_name": "Python 3 (ipykernel)",
   "language": "python",
   "name": "python3"
  },
  "language_info": {
   "codemirror_mode": {
    "name": "ipython",
    "version": 3
   },
   "file_extension": ".py",
   "mimetype": "text/x-python",
   "name": "python",
   "nbconvert_exporter": "python",
   "pygments_lexer": "ipython3",
   "version": "3.11.0"
  }
 },
 "nbformat": 4,
 "nbformat_minor": 4
}
